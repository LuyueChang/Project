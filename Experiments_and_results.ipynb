{
  "nbformat": 4,
  "nbformat_minor": 0,
  "metadata": {
    "colab": {
      "name": "Experiments_and_results.ipynb",
      "provenance": [],
      "collapsed_sections": [],
      "toc_visible": true,
      "authorship_tag": "ABX9TyO/ABD7MdRWX6T5ucYNa1lh",
      "include_colab_link": true
    },
    "kernelspec": {
      "name": "python3",
      "display_name": "Python 3"
    },
    "language_info": {
      "name": "python"
    }
  },
  "cells": [
    {
      "cell_type": "markdown",
      "metadata": {
        "id": "view-in-github",
        "colab_type": "text"
      },
      "source": [
        "<a href=\"https://colab.research.google.com/github/LuyueChang/Project/blob/main/Experiments_and_results.ipynb\" target=\"_parent\"><img src=\"https://colab.research.google.com/assets/colab-badge.svg\" alt=\"Open In Colab\"/></a>"
      ]
    },
    {
      "cell_type": "markdown",
      "metadata": {
        "id": "kcFvIESRBpRo"
      },
      "source": [
        "# Adapt()"
      ]
    },
    {
      "cell_type": "code",
      "metadata": {
        "id": "ahuUyJHDBiWY"
      },
      "source": [
        "import numpy as np\n",
        "import pandas as pd\n",
        "import matplotlib.pyplot as plt\n",
        "\n",
        "#IP: additional libraries for the prediction models\n",
        "from numpy import sum as arraysum\n",
        "from numpy import sqrt\n",
        "from scipy import stats\n",
        "from sklearn.utils import shuffle\n",
        "from scipy import stats\n",
        "from sklearn.metrics import mean_squared_error"
      ],
      "execution_count": 1,
      "outputs": []
    },
    {
      "cell_type": "code",
      "metadata": {
        "colab": {
          "base_uri": "https://localhost:8080/"
        },
        "id": "qvDydIbiBweW",
        "outputId": "74bd3b8b-08e7-4f9f-a36f-0efc619d3c41"
      },
      "source": [
        "from google.colab import drive\n",
        "drive.mount('/content/drive')\n",
        "import os\n",
        "import sys\n",
        "os.chdir('/content/drive/MyDrive/Project')\n",
        "adapt_data = pd.read_csv('adapt_data.csv')\n",
        "adapt_data_sample_size = pd.read_csv('adapt_data_sample_size.csv')"
      ],
      "execution_count": 2,
      "outputs": [
        {
          "output_type": "stream",
          "name": "stdout",
          "text": [
            "Mounted at /content/drive\n"
          ]
        }
      ]
    },
    {
      "cell_type": "code",
      "metadata": {
        "id": "j_0c_hl0Bynx"
      },
      "source": [
        "def adapt(T,S,A,algo):\n",
        "  # Updated this function to work for all CF algorithms, not just NMF; the algoritms can be specified through the algo parameter; see examples below\n",
        "  S_last = S\n",
        "  S_final = S\n",
        "  S_step_3 = S\n",
        "  S_loop = S\n",
        "  S_while = S\n",
        "  time_budget_schedule = T\n",
        "  baseline_list = []\n",
        "  shuffled_data = adapt_data_sample_size.sample(frac = 1)\n",
        "  # Get needed data from csv and name it indexed_new_df\n",
        "  group_sample_size = shuffled_data.loc[:,['sample_size', algo]].groupby(['sample_size']).count()\n",
        "  # Combine the counted number with the previous csv and rename the column\n",
        "  group_sample_size_count = shuffled_data.merge(group_sample_size,on='sample_size',left_index=True).sort_values(\"sample_size\")\n",
        "  group_sample_size_count.rename(columns={algo+'_x':algo, algo+'_y':'sub_samples'},inplace=True)\n",
        "  # Create a new dataframe contains nmf\\sample_size\\sub_samples column\n",
        "  new_df = group_sample_size_count.loc[:,[algo,'sample_size','sub_samples']]\n",
        "  # Reset index of the dataframe and delete original index\n",
        "  indexed_new_df = new_df.reset_index(drop=True)\n",
        "  # print('indexed_new_df',indexed_new_df)\n",
        "  \n",
        "  # Make a prediction dictionary according to the first value of S\n",
        "  update_s = indexed_new_df[indexed_new_df['sample_size']==S]['sub_samples'].iloc[0]\n",
        "  predict_base = indexed_new_df[algo][S-update_s]\n",
        "  # print('predict_base:',predict_base)\n",
        "  \n",
        "  predict_first = predict_base\n",
        "  key = []\n",
        "  value = []\n",
        "  value.append(predict_base)\n",
        "\n",
        "  while S > 0:\n",
        "    key.append(S)\n",
        "    predict_value = predict_base*(S-update_s)/S\n",
        "    value.append(predict_value)\n",
        "    S -= update_s\n",
        "    predict_base = predict_value\n",
        "  value.pop()\n",
        "  predicted_dic = dict(zip(key,value))\n",
        "\n",
        "  # Compute schedule \n",
        "  baseline = predicted_dic[list(predicted_dic.keys())[-1]]\n",
        "  baseline_list.append(baseline)\n",
        "  # The time_budget here is defined by T minus first subsample of S\n",
        "  time_budget = T - predict_first\n",
        "  # In the loop, the first S and the other S is different\n",
        "  p_key = []\n",
        "  for k in predicted_dic.keys():\n",
        "    p_key.append(k)\n",
        "  p_key.pop(0)\n",
        "\n",
        "  # fill schedule\n",
        "  actual_dic = {}\n",
        "  i = 1\n",
        "  time_budget2 = time_budget\n",
        "  while time_budget2 > baseline:\n",
        "    actual_dic[S_step_3] = i\n",
        "    if i >= 2:\n",
        "      time_budget2 -= predicted_dic[S_step_3]\n",
        "    # if time_budget>0,the number of subsamples will add 1,else minus 1\n",
        "      for j in p_key:\n",
        "        time_budget2 -= predicted_dic[j]\n",
        "        if time_budget2 >= 0:\n",
        "          actual_dic[j] = i\n",
        "        else:\n",
        "          actual_dic[j] = i-1\n",
        "      i += 1\n",
        "    else:\n",
        "      for j in p_key:\n",
        "        time_budget2 -= predicted_dic[j]\n",
        "        if time_budget2 >= 0:\n",
        "          actual_dic[j] = i\n",
        "        else:\n",
        "          actual_dic[j] = i-1\n",
        "      i += 1\n",
        "\n",
        "\n",
        "  for k in actual_dic.keys():\n",
        "    # if number of sub-samples is bigger than the total number of sub-samples then we set it as the total number of sub-sample. \n",
        "    if actual_dic[k] > indexed_new_df[indexed_new_df['sample_size']==k]['sub_samples'].iloc[0]:\n",
        "      actual_dic[k] = indexed_new_df[indexed_new_df['sample_size']==k]['sub_samples'].iloc[0]\n",
        "\n",
        "  # compute time_budget by real values from csv according to schedule\n",
        "  for key,value in actual_dic.items():\n",
        "    time_budget_schedule -= np.sum(indexed_new_df[indexed_new_df['sample_size']==key][0:value][algo])\n",
        "\n",
        "  # Play out computed schedule \n",
        "  # make an accuracy dictionary\n",
        "  accuracy = 0\n",
        "  acc_dic = {}\n",
        "  actual_dictionary = {}\n",
        "  for i,j in actual_dic.items():\n",
        "    current_time_list = []\n",
        "    for p in range(0,j):\n",
        "      # while accuracy < acc :\n",
        "      current_time_list.append(indexed_new_df[indexed_new_df['sample_size']==i][algo].iloc[p])\n",
        "      actual_dictionary[i] = current_time_list\n",
        "      acc_dic[i] = np.std(actual_dictionary[i])/np.mean(actual_dictionary[i])\n",
        "      if p >= 2 and acc_dic[i] <= A:\n",
        "       actual_dic[i] = p + 1;\n",
        "       break\n",
        "\n",
        "\n",
        "  # update prediction dictionary\n",
        "  key = []\n",
        "  value = []\n",
        "  # get the maximum of the first list in the actual_dictionary\n",
        "  predict_new = max(actual_dictionary[S_final])\n",
        "  value.append(predict_new)\n",
        "  S_last = S_final\n",
        "  while S_last > 0:\n",
        "    key.append(S_last)\n",
        "    predict_value = predict_new*(S_last-update_s)/S_last\n",
        "    value.append(predict_value)\n",
        "    S_last -= update_s\n",
        "    predict_new = predict_value\n",
        "  value.pop()\n",
        "  predicted_dic = dict(zip(key,value))\n",
        "  baseline = predicted_dic[list(predicted_dic.keys())[-1]]\n",
        "  time_budget_schedule_list = []\n",
        "  while time_budget_schedule > baseline and len(time_budget_schedule_list)==len(set(time_budget_schedule_list)):\n",
        "    S_loop = S_while\n",
        "    while S_loop > 0:\n",
        "      for i,j in acc_dic.items():\n",
        "        if acc_dic[i] > A:\n",
        "          if time_budget_schedule >= predicted_dic[S_loop]:\n",
        "            actual_dic[S_loop] += 1\n",
        "            time_budget_schedule -= predicted_dic[S_loop]\n",
        "            S_loop -= indexed_new_df[indexed_new_df['sample_size']==S_loop]['sub_samples'].iloc[0]\n",
        "          else:\n",
        "            S_loop -= indexed_new_df[indexed_new_df['sample_size']==S_loop]['sub_samples'].iloc[0]\n",
        "        else:\n",
        "          actual_dic[S_loop] += 0\n",
        "          time_budget_schedule -= 0\n",
        "          S_loop -= indexed_new_df[indexed_new_df['sample_size']==S_loop]['sub_samples'].iloc[0]\n",
        "\n",
        "    for k in actual_dic.keys():\n",
        "      # if number of sub-samples is bigger than the total number of sub-samples\n",
        "      # then we set it as the total number of sub-sample. \n",
        "      if actual_dic[k] > indexed_new_df[indexed_new_df['sample_size']==k]['sub_samples'].iloc[0]:\n",
        "        actual_dic[k] = indexed_new_df[indexed_new_df['sample_size']==k]['sub_samples'].iloc[0]\n",
        "\n",
        "    schedule_keys = []\n",
        "    for schedule_key in actual_dic.keys():\n",
        "      schedule_keys.append(schedule_key)\n",
        "\n",
        "    if len(set(actual_dic.values())) == 1:\n",
        "      different_S = S_while\n",
        "    else:\n",
        "      prep_i = []\n",
        "      for i in range(0,len(schedule_keys)):\n",
        "        if actual_dic[schedule_keys[i]] != actual_dic[schedule_keys[i-1]]:\n",
        "          prep_i.append(i)\n",
        "        else:\n",
        "          different_S = S_while\n",
        "      different_S = schedule_keys[prep_i[1]]\n",
        "\n",
        "    actual_dictionary = {}\n",
        "    for i,j in actual_dic.items():\n",
        "      current_time_list = []\n",
        "      for p in range(0,j):\n",
        "        current_time_list.append(indexed_new_df[indexed_new_df['sample_size']==i][algo].iloc[p])\n",
        "        actual_dictionary[i] = current_time_list\n",
        "        acc_dic[i] = np.std(actual_dictionary[i])/np.mean(actual_dictionary[i])\n",
        "        if p >= 2 and acc_dic[i] <= A:\n",
        "          actual_dic[i] = p + 1\n",
        "          break\n",
        "\n",
        "    # print('acc',acc_dic)\n",
        "    time_budget_schedule_loop = T\n",
        "    for key,value in actual_dic.items():\n",
        "      time_budget_schedule_loop -= np.sum(indexed_new_df[indexed_new_df['sample_size']==key][0:value][algo])\n",
        "\n",
        "    # update prediction dictionary\n",
        "    key = []\n",
        "    value = []\n",
        "    # get the maximum of the first list in the actual_dictionary\n",
        "    predict_new = max(actual_dictionary[S_final])\n",
        "    value.append(predict_new)\n",
        "    S_last = S_final\n",
        "    while S_last > 0:\n",
        "      key.append(S_last)\n",
        "      predict_value = predict_new*(S_last-update_s)/S_last\n",
        "      value.append(predict_value)\n",
        "      S_last -= update_s\n",
        "      predict_new = predict_value\n",
        "    value.pop()\n",
        "    predicted_dic = dict(zip(key,value))\n",
        "\n",
        "    # update baseline\n",
        "    baseline = predicted_dic[list(predicted_dic.keys())[-1]]\n",
        "    # update time budget\n",
        "    time_budget_schedule = time_budget_schedule_loop\n",
        "    time_budget_schedule_list.append(time_budget_schedule)\n",
        "  # print('The final shedule',actual_dic)\n",
        "  # print('The final actual_dictionary:',actual_dictionary)\n",
        "  # Updated this code to return the proposed schedule and the corresponding runtimes\n",
        "  return actual_dictionary"
      ],
      "execution_count": 3,
      "outputs": []
    },
    {
      "cell_type": "markdown",
      "metadata": {
        "id": "njag7bXWB2Nw"
      },
      "source": [
        "# Complexity"
      ]
    },
    {
      "cell_type": "code",
      "metadata": {
        "id": "X5W7fWntB4ti"
      },
      "source": [
        "#IP: here is a helper function to get the number of users (m), items (n), ratings (r) from the complete dataset (df) \n",
        "def get_m_n_r_complete_dataset(df):\n",
        "  m = []; n = []; r = [];\n",
        "  for i in range(0, 100, 10):\n",
        "    m.append(df[i:i+1]['m'].to_list()[0])\n",
        "    n.append(df[i:i+1]['n'].to_list()[0])\n",
        "    r.append(df[i:i+1]['r'].to_list()[0])\n",
        "  return (m, n, r)\n",
        "\n",
        "#IP: get the actual runtimes for the complete dataset (df) for all CF algorithms; these are stored as a map where the key is the name of the algorithm and the value is the actual runtime\n",
        "def get_actual_runtime_complete_dataset(df):\n",
        "  actual_runtime = {}\n",
        "  algorithms = ['baseline', 'random', 'nmf', 'svd', 'coclustering', 'slopeone', 'knn', 'knnbaseline', 'centredknn']\n",
        "  for a in algorithms:\n",
        "    actual_runtime[a] = df[90:100][a].mean()\n",
        "  return actual_runtime\n",
        "\n",
        "#IP: below are some helper functions to compute the complexity of various CF based on the number of users (m), items (n), ratings (r) \n",
        "def comp_baseline(m, n, r):\n",
        "    return (m*m + n*n)\n",
        "\n",
        "def comp_random(m, n, r):\n",
        "    return r\n",
        "\n",
        "def comp_slopeone(m, n, r):\n",
        "    return (n*n + (r*r)/m + r)\n",
        "\n",
        "def comp_nmf(m, n, r):\n",
        "    return (r + m + n)\n",
        "\n",
        "def comp_svd(m, n, r):\n",
        "    return r\n",
        "\n",
        "def comp_knn(m, n, r):\n",
        "    return (n*n +r*r/n) # this is for item-based KNN\n",
        "\n",
        "def comp_centred_knn(m, n, r):\n",
        "    return (n*n +r*r/n + r) #item-based centred KNN\n",
        "\n",
        "def comp_coclustering(m, n, r):\n",
        "    return (m + n + r)\n",
        "\n",
        "def comp_knn_baseline(m, n, r):\n",
        "    return (n*n +r*r/n + r)"
      ],
      "execution_count": 4,
      "outputs": []
    },
    {
      "cell_type": "markdown",
      "metadata": {
        "id": "tYNZi5CKB8cl"
      },
      "source": [
        "# NRMSE"
      ]
    },
    {
      "cell_type": "code",
      "metadata": {
        "id": "abyX_kXBB-V1"
      },
      "source": [
        "#IP: get the number of users (m), items (n), ratings (r) for each sample size \n",
        "m, n, r = get_m_n_r_complete_dataset(adapt_data_sample_size)\n",
        "#IP: get the actual runtime of the algorithms on the complete dataset\n",
        "actual_rt = get_actual_runtime_complete_dataset(adapt_data_sample_size)"
      ],
      "execution_count": 5,
      "outputs": []
    },
    {
      "cell_type": "code",
      "metadata": {
        "id": "a4gG_wu8CC0_"
      },
      "source": [
        "#IP: this function predicts the overall runtime of a CF (algo), based on linear models which learn the slope and intercept of the curves computed using the time complexity equations for the various CF models\n",
        "def predict_time(algo, m, n, r, adapt_schedule, actual_runtime, algo_complexity):\n",
        "  df = pd.DataFrame(columns=['s', 'm', 'n', 'r', algo])\n",
        "  s_list = []; m_list = []; n_list = []; r_list = []; t_list = [];\n",
        "  predictions = []; norm_rmse = [];\n",
        "\n",
        "  # IP: build the dataframe with users, items, ratings, runtimes for the linear models\n",
        "  for k,v in adapt_schedule.items():\n",
        "    s_list += [k] * len(v)\n",
        "    m_list += [m[int(k/10)]-1] * len(v)\n",
        "    n_list += [n[int(k/10)]-1] * len(v)\n",
        "    r_list += [r[int(k/10)]-1] * len(v)\n",
        "    t_list += v\n",
        "  df['s'] = s_list; df['m'] = m_list; df['n'] = n_list; df['r'] = r_list; df[algo] = t_list;\n",
        "  df = df.sort_values(by=['s'])\n",
        "  # print('df',df)\n",
        "\n",
        "  # IP: get the samples sizes and sort them in ascending order (in Luyue's dataframe are from 100% to 10%)\n",
        "  sample_sizes = list(adapt_schedule.keys())\n",
        "  sample_sizes.sort()\n",
        "\n",
        "  #IP: for every sample size, we compute slope and intercept based on the previous runtimes and complexity equations\n",
        "  for sample in range(1, len(sample_sizes)):\n",
        "    #IP: slice original dataframe, such that we get the samples from x% + (x+10)%, then x% + (x+10)% + (x+20)%, and so on, where smallest x can be 10%\n",
        "    temp_df = df.loc[df['s'] <= sample_sizes[sample]]\n",
        "    m_array = np.array(temp_df[0:len(temp_df)-1]['m'].to_list())\n",
        "    n_array = np.array(temp_df[0:len(temp_df)-1]['n'].to_list())\n",
        "    r_array = np.array(temp_df[0:len(temp_df)-1]['r'].to_list())\n",
        "\n",
        "    #IP: compute slope and intercept using least squares regression\n",
        "    slope, intercept, r_value, p_value, std_err = stats.linregress(algo_complexity(m_array, n_array, r_array), temp_df[0:len(temp_df)-1][algo].to_list())\n",
        "    #IP: compute the predicted runtime of a specific CF on the full dataset based on slope and intercept learnt using the runtimes from the schedule\n",
        "    predicted_runtime = intercept + (algo_complexity(m[-1], n[-1], r[-1]))*slope\n",
        "    #IP: compute the normalised RMSE on the predictions\n",
        "    nrmse = mean_squared_error([actual_runtime[algo]], [predicted_runtime], squared=False)/actual_runtime[algo]\n",
        "    # nrmse = np.sqrt(mean_squared_error([actual_runtime[algo]], [predicted_runtime]))/actual_runtime[algo]\n",
        "    predictions.append(predicted_runtime)\n",
        "    norm_rmse.append(nrmse)\n",
        "  #IP: create a dataframe with the predicted runtimes and normalised RMSEs on the full dataset based on different samples sizes\n",
        "  predictions_df = pd.DataFrame()\n",
        "  predictions_df['sample_size'] = sample_sizes[1:]\n",
        "  predictions_df['predicted_runtime_full_dataset'] = predictions\n",
        "  predictions_df['normalised_rmse'] = norm_rmse\n",
        "  return norm_rmse"
      ],
      "execution_count": 6,
      "outputs": []
    },
    {
      "cell_type": "markdown",
      "metadata": {
        "id": "hIKLCGvZCDqK"
      },
      "source": [
        "# Experiments"
      ]
    },
    {
      "cell_type": "markdown",
      "metadata": {
        "id": "S7kNrxk4CHGG"
      },
      "source": [
        "## Different accuracy thresholds\n",
        "(T=60,S=40)"
      ]
    },
    {
      "cell_type": "markdown",
      "metadata": {
        "id": "Je7DzctRCL5i"
      },
      "source": [
        "##### svd model"
      ]
    },
    {
      "cell_type": "code",
      "metadata": {
        "id": "GZLv3CovCGcO"
      },
      "source": [
        "svd_nrmse = []\n",
        "svd_std = []\n",
        "for i in [0.01, 0.05, 0.1, 0.25, 0.5]:\n",
        "  svd_results = []\n",
        "  for j in range(0,10):\n",
        "    a1 = adapt(60,40,i,'svd')\n",
        "    p1 = predict_time('svd', m, n, r, a1, actual_rt, comp_svd)\n",
        "    svd_results.append(p1)\n",
        "  svd_norm = [b for a in svd_results for b in a]\n",
        "  svd_mean,svd_sigma = np.mean(svd_norm),np.std(svd_norm)\n",
        "  svd_nrmse.append(svd_mean)\n",
        "  svd_std.append(svd_sigma)"
      ],
      "execution_count": 7,
      "outputs": []
    },
    {
      "cell_type": "code",
      "metadata": {
        "colab": {
          "base_uri": "https://localhost:8080/",
          "height": 404
        },
        "id": "_rCKc010CQ_E",
        "outputId": "9c7446f3-ac0c-463a-c022-85c017297af1"
      },
      "source": [
        "plt.figure(figsize=(6,6))\n",
        "x = [0.01, 0.05, 0.1, 0.25, 0.5]\n",
        "plt.plot(x,svd_nrmse)\n",
        "plt.errorbar(x,svd_nrmse,yerr=svd_std,fmt='o',ecolor='r',color='b',elinewidth=2,capsize=4)\n",
        "plt.ylim(0,1,10)\n",
        "plt.yticks(np.arange(0,1,0.1))\n",
        "plt.xticks(np.arange(0,0.55,0.05))\n",
        "plt.xlabel('accuracy threshold')\n",
        "plt.ylabel('NRMSE')\n",
        "plt.title('T=60,S=40,Model=SVD')\n",
        "plt.show()"
      ],
      "execution_count": 8,
      "outputs": [
        {
          "output_type": "display_data",
          "data": {
            "image/png": "[encoded data removed]",
            "text/plain": [
              "<Figure size 432x432 with 1 Axes>"
            ]
          },
          "metadata": {
            "needs_background": "light"
          }
        }
      ]
    },
    {
      "cell_type": "markdown",
      "metadata": {
        "id": "R-a05zOSCrT3"
      },
      "source": [
        "##### baseline model"
      ]
    },
    {
      "cell_type": "code",
      "metadata": {
        "id": "WC1Jxdg8CtXF"
      },
      "source": [
        "baseline_nrmse = []\n",
        "baseline_std = []\n",
        "for i in [0.01, 0.05, 0.1, 0.25, 0.5]:\n",
        "  baseline_results = []\n",
        "  for j in range(0,10):\n",
        "    a = adapt(60,40,i,'baseline')\n",
        "    p = predict_time('baseline', m, n, r, a, actual_rt, comp_baseline)\n",
        "    baseline_results.append(p)\n",
        "  baseline_norm = [b for a in baseline_results for b in a]\n",
        "  baseline_mean,baseline_sigma = np.mean(baseline_norm),np.std(baseline_norm)\n",
        "  baseline_nrmse.append(baseline_mean)\n",
        "  baseline_std.append(baseline_sigma)"
      ],
      "execution_count": 9,
      "outputs": []
    },
    {
      "cell_type": "code",
      "metadata": {
        "colab": {
          "base_uri": "https://localhost:8080/",
          "height": 404
        },
        "id": "fgx6E_IDCwTA",
        "outputId": "da07c3a7-9923-47be-e921-f09be2c7e08e"
      },
      "source": [
        "plt.figure(figsize=(6,6))\n",
        "x = [0.01, 0.05, 0.1, 0.25, 0.5]\n",
        "plt.plot(x,baseline_nrmse)\n",
        "plt.errorbar(x,baseline_nrmse,yerr=baseline_std,fmt='o',ecolor='r',color='b',elinewidth=2,capsize=4)\n",
        "# plt.xlim(0,0.5,10)\n",
        "plt.ylim(0,1,10)\n",
        "plt.yticks(np.arange(0,1,0.1))\n",
        "plt.xticks(np.arange(0,0.55,0.05))\n",
        "plt.xlabel('accuracy threshold')\n",
        "plt.ylabel('NRMSE')\n",
        "plt.title('T=60,S=40,Model=Baseline')\n",
        "plt.show()"
      ],
      "execution_count": 10,
      "outputs": [
        {
          "output_type": "display_data",
          "data": {
            "image/png": "[encoded data removed]",
            "text/plain": [
              "<Figure size 432x432 with 1 Axes>"
            ]
          },
          "metadata": {
            "needs_background": "light"
          }
        }
      ]
    },
    {
      "cell_type": "markdown",
      "metadata": {
        "id": "R3CETqUpC2tM"
      },
      "source": [
        "##### nmf model"
      ]
    },
    {
      "cell_type": "code",
      "metadata": {
        "id": "R4HJC7_MC7Uo"
      },
      "source": [
        "nmf_nrmse = []\n",
        "nmf_std = []\n",
        "for i in [0.01, 0.05, 0.1, 0.25, 0.5]:\n",
        "  nmf_results = []\n",
        "  for j in range(0,10):\n",
        "    a = adapt(60,40,i,'nmf')\n",
        "    p = predict_time('nmf', m, n, r, a, actual_rt, comp_nmf)\n",
        "    nmf_results.append(p)\n",
        "  nmf_norm = [b for a in nmf_results for b in a]\n",
        "  nmf_mean,nmf_sigma = np.mean(nmf_norm),np.std(nmf_norm)\n",
        "  nmf_nrmse.append(nmf_mean)\n",
        "  nmf_std.append(nmf_sigma)"
      ],
      "execution_count": 11,
      "outputs": []
    },
    {
      "cell_type": "code",
      "metadata": {
        "colab": {
          "base_uri": "https://localhost:8080/",
          "height": 404
        },
        "id": "27NAdlo4C9lL",
        "outputId": "5dbda6c2-8b28-474f-ec79-e74a1c582cf8"
      },
      "source": [
        "plt.figure(figsize=(6,6))\n",
        "x = [0.01, 0.05, 0.1, 0.25, 0.5]\n",
        "plt.plot(x,nmf_nrmse)\n",
        "plt.errorbar(x,nmf_nrmse,yerr=nmf_std,fmt='o',ecolor='r',color='b',elinewidth=2,capsize=4)\n",
        "# plt.xlim(0,0.5,10)\n",
        "plt.ylim(0,1,10)\n",
        "plt.yticks(np.arange(0,1,0.1))\n",
        "plt.xticks(np.arange(0,0.55,0.05))\n",
        "plt.xlabel('accuracy threshold')\n",
        "plt.ylabel('NRMSE')\n",
        "plt.title('T=60,S=40,Model=NMF')\n",
        "plt.show()"
      ],
      "execution_count": 12,
      "outputs": [
        {
          "output_type": "display_data",
          "data": {
            "image/png": "[encoded data removed]",
            "text/plain": [
              "<Figure size 432x432 with 1 Axes>"
            ]
          },
          "metadata": {
            "needs_background": "light"
          }
        }
      ]
    },
    {
      "cell_type": "markdown",
      "metadata": {
        "id": "OTs0-vNADBmI"
      },
      "source": [
        "##### co-clustering model"
      ]
    },
    {
      "cell_type": "code",
      "metadata": {
        "id": "S-E5gkcCDEGH"
      },
      "source": [
        "co_nrmse = []\n",
        "co_std = []\n",
        "for i in [0.01, 0.05, 0.1, 0.25, 0.5]:\n",
        "  co_results = []\n",
        "  for j in range(0,10):\n",
        "    a = adapt(60,40,i,'coclustering')\n",
        "    p = predict_time('coclustering', m, n, r, a, actual_rt, comp_coclustering)\n",
        "    co_results.append(p)\n",
        "  co_norm = [b for a in co_results for b in a]\n",
        "  co_mean,co_sigma = np.mean(co_norm),np.std(co_norm)\n",
        "  co_nrmse.append(co_mean)\n",
        "  co_std.append(co_sigma)"
      ],
      "execution_count": 13,
      "outputs": []
    },
    {
      "cell_type": "code",
      "metadata": {
        "colab": {
          "base_uri": "https://localhost:8080/",
          "height": 404
        },
        "id": "gg7lgznqDHVz",
        "outputId": "3d325eee-1908-4f9d-ed71-adcc8908a074"
      },
      "source": [
        "plt.figure(figsize=(6,6))\n",
        "x = [0.01, 0.05, 0.1, 0.25, 0.5]\n",
        "plt.plot(x,co_nrmse)\n",
        "plt.errorbar(x,co_nrmse,yerr=co_std,fmt='o',ecolor='r',color='b',elinewidth=2,capsize=4)\n",
        "plt.ylim(0,1,10)\n",
        "plt.yticks(np.arange(0,1,0.1))\n",
        "plt.xticks(np.arange(0,0.55,0.05))\n",
        "plt.xlabel('accuracy threshold')\n",
        "plt.ylabel('NRMSE')\n",
        "plt.title('T=60,S=40,Model=Co-clustering')\n",
        "plt.show()"
      ],
      "execution_count": 14,
      "outputs": [
        {
          "output_type": "display_data",
          "data": {
            "image/png": "[encoded data removed]",
            "text/plain": [
              "<Figure size 432x432 with 1 Axes>"
            ]
          },
          "metadata": {
            "needs_background": "light"
          }
        }
      ]
    },
    {
      "cell_type": "markdown",
      "metadata": {
        "id": "LhQUofBrDPte"
      },
      "source": [
        "## Different sample sizes\n",
        "(T=300,accuracy threshold=0.1)"
      ]
    },
    {
      "cell_type": "markdown",
      "metadata": {
        "id": "J8GLsf5RDTtq"
      },
      "source": [
        "##### svd model"
      ]
    },
    {
      "cell_type": "code",
      "metadata": {
        "id": "ApkWIv50DSnz"
      },
      "source": [
        "svd_nrmse = []\n",
        "for s in [20,40,60,80]:\n",
        "  svd_value = []\n",
        "  for j in range(0,10):\n",
        "    svd = adapt(300,s,0.1,'svd')\n",
        "    svd_p = predict_time('svd', m, n, r, svd, actual_rt, comp_svd)\n",
        "    svd_value.append(svd_p)\n",
        "  svd_nrmse.append(np.mean(svd_value))"
      ],
      "execution_count": 23,
      "outputs": []
    },
    {
      "cell_type": "code",
      "metadata": {
        "colab": {
          "base_uri": "https://localhost:8080/",
          "height": 295
        },
        "id": "zrMO_-JqGLFF",
        "outputId": "f23b35e2-8d15-4ced-8a15-9ce09f55a352"
      },
      "source": [
        "x = [20,40,60,80]\n",
        "plt.plot(x,svd_nrmse,marker='o')\n",
        "plt.xticks(np.arange(20,100,20))\n",
        "plt.yticks(np.arange(0,1,0.1))\n",
        "plt.xlabel('Sample size')\n",
        "plt.ylabel('NRMSE')\n",
        "plt.title('T=300,Accuracy threshold=0.1,Model = SVD')\n",
        "plt.show()"
      ],
      "execution_count": 24,
      "outputs": [
        {
          "output_type": "display_data",
          "data": {
            "image/png": "[encoded data removed]",
            "text/plain": [
              "<Figure size 432x288 with 1 Axes>"
            ]
          },
          "metadata": {
            "needs_background": "light"
          }
        }
      ]
    },
    {
      "cell_type": "markdown",
      "metadata": {
        "id": "MnCmnujsGNDd"
      },
      "source": [
        "##### baseline model"
      ]
    },
    {
      "cell_type": "code",
      "metadata": {
        "id": "JvKkqbt6GPJe"
      },
      "source": [
        "baseline_nrmse = []\n",
        "for s in [20,40,60,80]:\n",
        "  baseline_value = []\n",
        "  for j in range(0,10):\n",
        "    baseline = adapt(300,s,0.1,'baseline')\n",
        "    baseline_p = predict_time('baseline', m, n, r, baseline, actual_rt, comp_baseline)\n",
        "    baseline_value.append(baseline_p)\n",
        "  baseline_nrmse.append(np.mean(baseline_value))"
      ],
      "execution_count": 25,
      "outputs": []
    },
    {
      "cell_type": "code",
      "metadata": {
        "colab": {
          "base_uri": "https://localhost:8080/",
          "height": 295
        },
        "id": "YktlAI3QGdyd",
        "outputId": "a5229627-fe67-477e-ce4c-9dc6e95d3cf2"
      },
      "source": [
        "x = [20,40,60,80]\n",
        "plt.plot(x,baseline_nrmse,marker='o')\n",
        "plt.xticks(np.arange(20,100,20))\n",
        "plt.yticks(np.arange(0,1,0.1))\n",
        "plt.xlabel('Sample size')\n",
        "plt.ylabel('NRMSE')\n",
        "plt.title('T=300,Accuracy threshold=0.1,Model = Baseline')\n",
        "plt.show()"
      ],
      "execution_count": 26,
      "outputs": [
        {
          "output_type": "display_data",
          "data": {
            "image/png": "[encoded data removed]",
            "text/plain": [
              "<Figure size 432x288 with 1 Axes>"
            ]
          },
          "metadata": {
            "needs_background": "light"
          }
        }
      ]
    },
    {
      "cell_type": "markdown",
      "metadata": {
        "id": "iDATA_iHGiZ6"
      },
      "source": [
        "##### nmf model"
      ]
    },
    {
      "cell_type": "code",
      "metadata": {
        "id": "3zD_QKLEGkWp"
      },
      "source": [
        "nmf_nrmse = []\n",
        "for s in [20,40,60,80]:\n",
        "  nmf_value = []\n",
        "  for j in range(0,10):\n",
        "    nmf = adapt(300,s,0.1,'nmf')\n",
        "    nmf_p = predict_time('nmf', m, n, r, nmf, actual_rt, comp_nmf)\n",
        "    nmf_value.append(nmf_p)\n",
        "  nmf_nrmse.append(np.mean(nmf_value))"
      ],
      "execution_count": 27,
      "outputs": []
    },
    {
      "cell_type": "code",
      "metadata": {
        "colab": {
          "base_uri": "https://localhost:8080/",
          "height": 295
        },
        "id": "elDWN04AG1By",
        "outputId": "28539d7a-b46c-44c2-b513-f15bd08fbf46"
      },
      "source": [
        "x = [20,40,60,80]\n",
        "plt.plot(x,nmf_nrmse,marker='o')\n",
        "plt.xticks(np.arange(20,100,20))\n",
        "plt.yticks(np.arange(0,1,0.1))\n",
        "plt.xlabel('Sample size')\n",
        "plt.ylabel('NRMSE')\n",
        "plt.title('T=300,Accuracy threshold=0.1,Model = NMF')\n",
        "plt.show()"
      ],
      "execution_count": 28,
      "outputs": [
        {
          "output_type": "display_data",
          "data": {
            "image/png": "[encoded data removed]",
            "text/plain": [
              "<Figure size 432x288 with 1 Axes>"
            ]
          },
          "metadata": {
            "needs_background": "light"
          }
        }
      ]
    },
    {
      "cell_type": "markdown",
      "metadata": {
        "id": "6Pn0bTFaG5P3"
      },
      "source": [
        "##### co-clustering model"
      ]
    },
    {
      "cell_type": "code",
      "metadata": {
        "id": "q9WtvOh_G7aC"
      },
      "source": [
        "co_nrmse = []\n",
        "for s in [20,40,60,80]:\n",
        "  co_value = []\n",
        "  for j in range(0,10):\n",
        "    co = adapt(300,s,0.1,'coclustering')\n",
        "    co_p = predict_time('coclustering', m, n, r, co, actual_rt, comp_coclustering)\n",
        "    co_value.append(co_p)\n",
        "  co_nrmse.append(np.mean(co_value))"
      ],
      "execution_count": 29,
      "outputs": []
    },
    {
      "cell_type": "code",
      "metadata": {
        "colab": {
          "base_uri": "https://localhost:8080/",
          "height": 295
        },
        "id": "ikm794JGHKXk",
        "outputId": "63ad83c1-dca6-451d-fafc-7af0edf52cf8"
      },
      "source": [
        "x = [20,40,60,80]\n",
        "plt.plot(x,co_nrmse,marker='o')\n",
        "plt.xticks(np.arange(20,100,20))\n",
        "plt.yticks(np.arange(0,1,0.1))\n",
        "plt.xlabel('Sample size')\n",
        "plt.ylabel('NRMSE')\n",
        "plt.title('T=300,Accuracy threshold=0.1,Model = Co-clustering')\n",
        "plt.show()"
      ],
      "execution_count": 30,
      "outputs": [
        {
          "output_type": "display_data",
          "data": {
            "image/png": "[encoded data removed]",
            "text/plain": [
              "<Figure size 432x288 with 1 Axes>"
            ]
          },
          "metadata": {
            "needs_background": "light"
          }
        }
      ]
    }
  ]
}