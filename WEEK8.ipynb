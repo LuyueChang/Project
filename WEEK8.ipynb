{
  "nbformat": 4,
  "nbformat_minor": 0,
  "metadata": {
    "colab": {
      "name": "WEEK8.ipynb",
      "provenance": [],
      "collapsed_sections": []
    },
    "kernelspec": {
      "name": "python3",
      "display_name": "Python 3"
    },
    "language_info": {
      "name": "python"
    }
  },
  "cells": [
    {
      "cell_type": "code",
      "metadata": {
        "id": "lqOOe0YVubDS"
      },
      "source": [
        "import numpy as np\n",
        "import pandas as pd"
      ],
      "execution_count": 40,
      "outputs": []
    },
    {
      "cell_type": "code",
      "metadata": {
        "colab": {
          "base_uri": "https://localhost:8080/"
        },
        "id": "pR5ZCx1_ugxv",
        "outputId": "32919fd6-851a-4ab0-a99c-651d2e80574c"
      },
      "source": [
        "from google.colab import drive\n",
        "drive.mount('/content/drive')\n",
        "import os\n",
        "import sys\n",
        "os.chdir('/content/drive/MyDrive/project')\n",
        "adapt_data = pd.read_csv('adapt_data.csv')\n",
        "adapt_data_sample_size = pd.read_csv('adapt_data_sample_size.csv')"
      ],
      "execution_count": 41,
      "outputs": [
        {
          "output_type": "stream",
          "name": "stdout",
          "text": [
            "Drive already mounted at /content/drive; to attempt to forcibly remount, call drive.mount(\"/content/drive\", force_remount=True).\n"
          ]
        }
      ]
    },
    {
      "cell_type": "code",
      "metadata": {
        "id": "tSyET9phuiFi"
      },
      "source": [
        "def adapt(T,S,acc):\n",
        "  S_last = S\n",
        "  S_final = S\n",
        "  S_step_3 = S\n",
        "  S_loop = S\n",
        "  S_while = S\n",
        "  time_budget_schedule = T\n",
        "  # time_budget_schedule_loop = T\n",
        "  baseline_list = []\n",
        "  # Get needed data from csv and name it indexed_new_df\n",
        "  group_sample_size = adapt_data_sample_size.loc[:,['sample_size','nmf']].groupby(['sample_size']).count()\n",
        "  # Combine the counted number with the previous csv and rename the column\n",
        "  group_sample_size_count = adapt_data_sample_size.merge(group_sample_size,on='sample_size',left_index=True)\n",
        "  group_sample_size_count.rename(columns={'nmf_x':'nmf','nmf_y':'changed_value'},inplace=True)\n",
        "  # create a new dataframe contains nmf\\sample_size\\changed_value column\n",
        "  new_df = group_sample_size_count.loc[:,['nmf','sample_size','changed_value']]\n",
        "  # reset index of the dataframe and delete original index\n",
        "  indexed_new_df = new_df.reset_index(drop=True)\n",
        "  indexed_new_df\n",
        "\n",
        "# --------------------------------------------------------------------------------------------\n",
        "  # Make a prediction dictionary according to the first value of S\n",
        "  update_s = indexed_new_df[indexed_new_df['sample_size']==S]['changed_value'].iloc[0]\n",
        "  predict_base = indexed_new_df['nmf'][S-update_s]\n",
        "  # print('predict_base:',predict_base)\n",
        "  \n",
        "  predict_first = predict_base\n",
        "  key = []\n",
        "  value = []\n",
        "  value.append(predict_base)\n",
        "\n",
        "  while S > 0:\n",
        "    key.append(S)\n",
        "    predict_value = predict_base*(S-update_s)/S\n",
        "    value.append(predict_value)\n",
        "    S -= update_s\n",
        "    predict_base = predict_value\n",
        "  value.pop()\n",
        "  predicted_dic = dict(zip(key,value))\n",
        "  print('predicted_dic:',predicted_dic)\n",
        "# -------------------------------------------------------------------------------------\n",
        "\n",
        "  # step 3.1\n",
        "  # Compute schedule \n",
        "  baseline = predicted_dic[list(predicted_dic.keys())[-1]]\n",
        "  baseline_list.append(baseline)\n",
        "  # The time_budget here is defined by T minus first subsample of S\n",
        "  time_budget = T - predict_first\n",
        "  # In the loop, the first S and the other S is different\n",
        "  p_key = []\n",
        "  for k in predicted_dic.keys():\n",
        "    p_key.append(k)\n",
        "  p_key.pop(0)\n",
        "\n",
        "  # fill schedule\n",
        "  actual_dic = {}\n",
        "  i = 1\n",
        "  time_budget2 = time_budget\n",
        "  while time_budget2 > baseline:\n",
        "    actual_dic[S_step_3] = i\n",
        "    if i >= 2:\n",
        "      time_budget2 -= predicted_dic[S_step_3]\n",
        "    # if time_budget>0,the number of subsamples will add 1,else minus 1\n",
        "      for j in p_key:\n",
        "        time_budget2 -= predicted_dic[j]\n",
        "        if time_budget2 >= 0:\n",
        "          actual_dic[j] = i\n",
        "        else:\n",
        "          actual_dic[j] = i-1\n",
        "      i += 1\n",
        "    else:\n",
        "      for j in p_key:\n",
        "        time_budget2 -= predicted_dic[j]\n",
        "        if time_budget2 >= 0:\n",
        "          actual_dic[j] = i\n",
        "        else:\n",
        "          actual_dic[j] = i-1\n",
        "      i += 1\n",
        "\n",
        "\n",
        "  for k in actual_dic.keys():\n",
        "    # if number of sub-samples is bigger than the total number of sub-samples\n",
        "    # then we set it as the total number of sub-sample. \n",
        "    if actual_dic[k] > indexed_new_df[indexed_new_df['sample_size']==k]['changed_value'].iloc[0]:\n",
        "      actual_dic[k] = indexed_new_df[indexed_new_df['sample_size']==k]['changed_value'].iloc[0]\n",
        "  print('schedule:',actual_dic)\n",
        "\n",
        "  # compute time_budget by real values from csv according to schedule\n",
        "  for key,value in actual_dic.items():\n",
        "    time_budget_schedule -= np.sum(indexed_new_df[indexed_new_df['sample_size']==key][0:value]['nmf'])\n",
        "  print('The first time budget:',time_budget_schedule)\n",
        "\n",
        "  # Step 3.2 : Play out computed schedule \n",
        "  # make an accuracy dictionary\n",
        "  accuracy = 0\n",
        "  acc_dic = {}\n",
        "  actual_dictionary = {}\n",
        "  for i,j in actual_dic.items():\n",
        "    current_time_list = []\n",
        "    for p in range(0,j):\n",
        "      # while accuracy < acc :\n",
        "      current_time_list.append(indexed_new_df[indexed_new_df['sample_size']==i]['nmf'].iloc[p])\n",
        "      actual_dictionary[i] = current_time_list\n",
        "    # new change ------------------------------------------------\n",
        "      acc_dic[i] = np.std(actual_dictionary[i])/np.mean(actual_dictionary[i])\n",
        "      if p >= 2 and acc_dic[i] <= acc:\n",
        "       actual_dic[i] = p + 1;\n",
        "       break;\n",
        "\n",
        "  print('actual_dictionary:',actual_dictionary)\n",
        "  print('acc_dic:',acc_dic)\n",
        "\n",
        "  # update prediction dictionary\n",
        "  key = []\n",
        "  value = []\n",
        "  # get the maximum of the first list in the actual_dictionary\n",
        "  predict_new = max(actual_dictionary[S_final])\n",
        "  value.append(predict_new)\n",
        "  S_last = S_final\n",
        "  while S_last > 0:\n",
        "    key.append(S_last)\n",
        "    predict_value = predict_new*(S_last-update_s)/S_last\n",
        "    value.append(predict_value)\n",
        "    S_last -= update_s\n",
        "    predict_new = predict_value\n",
        "  value.pop()\n",
        "  predicted_dic = dict(zip(key,value))\n",
        "  print('updated_predicted_dic:',predicted_dic)\n",
        "  baseline = predicted_dic[list(predicted_dic.keys())[-1]]\n",
        "  time_budget_schedule_list = []\n",
        "  while time_budget_schedule > baseline and len(time_budget_schedule_list)==len(set(time_budget_schedule_list)):\n",
        "    S_loop = S_while\n",
        "    while S_loop > 0:\n",
        "      # new change-------------------------------------------\n",
        "      for i,j in acc_dic.items():\n",
        "        if acc_dic[i] > acc:\n",
        "          if time_budget_schedule >= predicted_dic[S_loop]:\n",
        "            actual_dic[S_loop] += 1\n",
        "            time_budget_schedule -= predicted_dic[S_loop]\n",
        "            S_loop -= indexed_new_df[indexed_new_df['sample_size']==S_loop]['changed_value'].iloc[0]\n",
        "          else:\n",
        "            S_loop -= indexed_new_df[indexed_new_df['sample_size']==S_loop]['changed_value'].iloc[0]\n",
        "        else:\n",
        "          actual_dic[S_loop] += 0\n",
        "          time_budget_schedule -= 0\n",
        "          S_loop -= indexed_new_df[indexed_new_df['sample_size']==S_loop]['changed_value'].iloc[0]\n",
        "\n",
        "    for k in actual_dic.keys():\n",
        "      # if number of sub-samples is bigger than the total number of sub-samples\n",
        "      # then we set it as the total number of sub-sample. \n",
        "      if actual_dic[k] > indexed_new_df[indexed_new_df['sample_size']==k]['changed_value'].iloc[0]:\n",
        "        actual_dic[k] = indexed_new_df[indexed_new_df['sample_size']==k]['changed_value'].iloc[0]\n",
        "    print('updated schedule',actual_dic)\n",
        "\n",
        "\n",
        "    schedule_keys = []\n",
        "    for schedule_key in actual_dic.keys():\n",
        "      schedule_keys.append(schedule_key)\n",
        "\n",
        "    if len(set(actual_dic.values())) == 1:\n",
        "      different_S = S_while\n",
        "    else:\n",
        "      prep_i = []\n",
        "      for i in range(0,len(schedule_keys)):\n",
        "        if actual_dic[schedule_keys[i]] != actual_dic[schedule_keys[i-1]]:\n",
        "          prep_i.append(i)\n",
        "        else:\n",
        "          different_S = S_while\n",
        "      different_S = schedule_keys[prep_i[1]]\n",
        "\n",
        "    actual_dictionary = {}\n",
        "    for i,j in actual_dic.items():\n",
        "      current_time_list = []\n",
        "      for p in range(0,j):\n",
        "        current_time_list.append(indexed_new_df[indexed_new_df['sample_size']==i]['nmf'].iloc[p])\n",
        "        actual_dictionary[i] = current_time_list\n",
        "        acc_dic[i] = np.std(actual_dictionary[i])/np.mean(actual_dictionary[i])\n",
        "        if p >= 2 and acc_dic[i] <= acc:\n",
        "          actual_dic[i] = p + 1\n",
        "          break\n",
        "\n",
        "    print('actual_dictionary:',actual_dictionary)\n",
        "    print('upadated acc_dic',acc_dic)\n",
        "\n",
        "    time_budget_schedule_loop = T\n",
        "    for key,value in actual_dic.items():\n",
        "      time_budget_schedule_loop -= np.sum(indexed_new_df[indexed_new_df['sample_size']==key][0:value]['nmf'])\n",
        "\n",
        "    # update prediction dictionary\n",
        "    key = []\n",
        "    value = []\n",
        "    # get the maximum of the first list in the actual_dictionary\n",
        "    predict_new = max(actual_dictionary[S_final])\n",
        "    value.append(predict_new)\n",
        "    S_last = S_final\n",
        "    while S_last > 0:\n",
        "      key.append(S_last)\n",
        "      predict_value = predict_new*(S_last-update_s)/S_last\n",
        "      value.append(predict_value)\n",
        "      S_last -= update_s\n",
        "      predict_new = predict_value\n",
        "    value.pop()\n",
        "    predicted_dic = dict(zip(key,value))\n",
        "    print('updated_predicted_dic:',predicted_dic)\n",
        "\n",
        "    # update baseline\n",
        "    baseline = predicted_dic[list(predicted_dic.keys())[-1]]\n",
        "    print('the value of baseline after update:',baseline)\n",
        "    # update time budget\n",
        "    time_budget_schedule = time_budget_schedule_loop\n",
        "    time_budget_schedule_list.append(time_budget_schedule)\n",
        "    print('remaining time after update:',time_budget_schedule)\n",
        "  print('The final shedule',actual_dic)"
      ],
      "execution_count": 42,
      "outputs": []
    },
    {
      "cell_type": "code",
      "metadata": {
        "colab": {
          "base_uri": "https://localhost:8080/"
        },
        "id": "ZV56pRWojFoR",
        "outputId": "c20164fb-1b33-48c7-ab65-ffb2de4fbee6"
      },
      "source": [
        "adapt(100,20,0.01)"
      ],
      "execution_count": 43,
      "outputs": [
        {
          "output_type": "stream",
          "name": "stdout",
          "text": [
            "predicted_dic: {20: 1.7026009999999998, 10: 0.8513005}\n",
            "schedule: {20: 10, 10: 10}\n",
            "The first time budget: 78.477886\n",
            "actual_dictionary: {20: [1.7026009999999998, 1.660134, 1.7023580000000003, 1.655218, 1.669371, 1.65777, 1.778943, 1.744434, 1.614781, 1.687775], 10: [0.459082, 0.463218, 0.456826]}\n",
            "acc_dic: {20: 0.026730737328819577, 10: 0.00575773043421017}\n",
            "updated_predicted_dic: {20: 1.778943, 10: 0.8894715}\n",
            "updated schedule {20: 10, 10: 3}\n",
            "actual_dictionary: {20: [1.7026009999999998, 1.660134, 1.7023580000000003, 1.655218, 1.669371, 1.65777, 1.778943, 1.744434, 1.614781, 1.687775], 10: [0.459082, 0.463218, 0.456826]}\n",
            "upadated acc_dic {20: 0.026730737328819577, 10: 0.00575773043421017}\n",
            "updated_predicted_dic: {20: 1.778943, 10: 0.8894715}\n",
            "the value of baseline after update: 0.8894715\n",
            "remaining time after update: 81.747489\n",
            "updated schedule {20: 10, 10: 3}\n",
            "actual_dictionary: {20: [1.7026009999999998, 1.660134, 1.7023580000000003, 1.655218, 1.669371, 1.65777, 1.778943, 1.744434, 1.614781, 1.687775], 10: [0.459082, 0.463218, 0.456826]}\n",
            "upadated acc_dic {20: 0.026730737328819577, 10: 0.00575773043421017}\n",
            "updated_predicted_dic: {20: 1.778943, 10: 0.8894715}\n",
            "the value of baseline after update: 0.8894715\n",
            "remaining time after update: 81.747489\n",
            "The final shedule {20: 10, 10: 3}\n"
          ]
        }
      ]
    },
    {
      "cell_type": "code",
      "metadata": {
        "id": "AmwWw3BFke5N",
        "colab": {
          "base_uri": "https://localhost:8080/"
        },
        "outputId": "34dcaf10-769e-42c4-ee9d-4e7a4be3ab16"
      },
      "source": [
        "adapt(300,70,0.006)"
      ],
      "execution_count": 45,
      "outputs": [
        {
          "output_type": "stream",
          "name": "stdout",
          "text": [
            "predicted_dic: {70: 23.407132999999998, 60: 20.063256857142857, 50: 16.719380714285716, 40: 13.375504571428573, 30: 10.03162842857143, 20: 6.687752285714287, 10: 3.3438761428571433}\n",
            "schedule: {70: 4, 60: 3, 50: 3, 40: 3, 30: 3, 20: 3, 10: 3}\n",
            "The first time budget: 73.88322899999994\n",
            "actual_dictionary: {70: [23.407132999999998, 25.065826, 23.334456, 26.303234999999997], 60: [17.055281, 17.063126999999998, 17.166774], 50: [11.869168, 11.726266, 11.907739], 40: [8.050094999999999, 7.546710000000001, 7.538053], 30: [3.8059559999999997, 3.9692199999999995, 3.8635129999999998], 20: [1.7026009999999998, 1.660134, 1.7023580000000003], 10: [0.459082, 0.463218, 0.456826]}\n",
            "acc_dic: {70: 0.05043668349165285, 60: 0.002972206394495927, 50: 0.006596083143571886, 40: 0.0310394641418971, 30: 0.017427623575567534, 20: 0.011823340642248574, 10: 0.00575773043421017}\n",
            "updated_predicted_dic: {70: 26.303234999999997, 60: 22.54563, 50: 18.788025, 40: 15.030420000000001, 30: 11.272815000000001, 20: 7.515210000000001, 10: 3.7576050000000003}\n",
            "updated schedule {70: 5, 60: 3, 50: 4, 40: 4, 30: 4, 20: 3, 10: 3}\n",
            "actual_dictionary: {70: [23.407132999999998, 25.065826, 23.334456, 26.303234999999997, 23.307528], 60: [17.055281, 17.063126999999998, 17.166774], 50: [11.869168, 11.726266, 11.907739, 11.880541000000001], 40: [8.050094999999999, 7.546710000000001, 7.538053, 7.454207000000001], 30: [3.8059559999999997, 3.9692199999999995, 3.8635129999999998, 3.9523589999999995], 20: [1.7026009999999998, 1.660134, 1.7023580000000003], 10: [0.459082, 0.463218, 0.456826]}\n",
            "upadated acc_dic {70: 0.049800861197316866, 60: 0.002972206394495927, 50: 0.005950925646461742, 40: 0.03077733432481601, 30: 0.01706078978910692, 20: 0.011823340642248574, 10: 0.00575773043421017}\n",
            "updated_predicted_dic: {70: 26.303234999999997, 60: 22.54563, 50: 18.788025, 40: 15.030420000000001, 30: 11.272815000000001, 20: 7.515210000000001, 10: 3.7576050000000003}\n",
            "the value of baseline after update: 3.7576050000000003\n",
            "remaining time after update: 27.288593999999964\n",
            "updated schedule {70: 6, 60: 3, 50: 4, 40: 4, 30: 4, 20: 3, 10: 3}\n",
            "actual_dictionary: {70: [23.407132999999998, 25.065826, 23.334456, 26.303234999999997, 23.307528, 23.183425], 60: [17.055281, 17.063126999999998, 17.166774], 50: [11.869168, 11.726266, 11.907739, 11.880541000000001], 40: [8.050094999999999, 7.546710000000001, 7.538053, 7.454207000000001], 30: [3.8059559999999997, 3.9692199999999995, 3.8635129999999998, 3.9523589999999995], 20: [1.7026009999999998, 1.660134, 1.7023580000000003], 10: [0.459082, 0.463218, 0.456826]}\n",
            "upadated acc_dic {70: 0.04886504589179438, 60: 0.002972206394495927, 50: 0.005950925646461742, 40: 0.03077733432481601, 30: 0.01706078978910692, 20: 0.011823340642248574, 10: 0.00575773043421017}\n",
            "updated_predicted_dic: {70: 26.303234999999997, 60: 22.54563, 50: 18.788025, 40: 15.030420000000001, 30: 11.272815000000001, 20: 7.515210000000001, 10: 3.7576050000000003}\n",
            "the value of baseline after update: 3.7576050000000003\n",
            "remaining time after update: 4.105168999999977\n",
            "updated schedule {70: 6, 60: 3, 50: 4, 40: 4, 30: 4, 20: 3, 10: 3}\n",
            "actual_dictionary: {70: [23.407132999999998, 25.065826, 23.334456, 26.303234999999997, 23.307528, 23.183425], 60: [17.055281, 17.063126999999998, 17.166774], 50: [11.869168, 11.726266, 11.907739, 11.880541000000001], 40: [8.050094999999999, 7.546710000000001, 7.538053, 7.454207000000001], 30: [3.8059559999999997, 3.9692199999999995, 3.8635129999999998, 3.9523589999999995], 20: [1.7026009999999998, 1.660134, 1.7023580000000003], 10: [0.459082, 0.463218, 0.456826]}\n",
            "upadated acc_dic {70: 0.04886504589179438, 60: 0.002972206394495927, 50: 0.005950925646461742, 40: 0.03077733432481601, 30: 0.01706078978910692, 20: 0.011823340642248574, 10: 0.00575773043421017}\n",
            "updated_predicted_dic: {70: 26.303234999999997, 60: 22.54563, 50: 18.788025, 40: 15.030420000000001, 30: 11.272815000000001, 20: 7.515210000000001, 10: 3.7576050000000003}\n",
            "the value of baseline after update: 3.7576050000000003\n",
            "remaining time after update: 4.105168999999977\n",
            "The final shedule {70: 6, 60: 3, 50: 4, 40: 4, 30: 4, 20: 3, 10: 3}\n"
          ]
        }
      ]
    },
    {
      "cell_type": "code",
      "metadata": {
        "colab": {
          "base_uri": "https://localhost:8080/"
        },
        "id": "YPaIoF5g5FN9",
        "outputId": "888a20f4-f375-4d36-9245-7cf9f30142f8"
      },
      "source": [
        "adapt(300,70,0.004)"
      ],
      "execution_count": 46,
      "outputs": [
        {
          "output_type": "stream",
          "name": "stdout",
          "text": [
            "predicted_dic: {70: 23.407132999999998, 60: 20.063256857142857, 50: 16.719380714285716, 40: 13.375504571428573, 30: 10.03162842857143, 20: 6.687752285714287, 10: 3.3438761428571433}\n",
            "schedule: {70: 4, 60: 3, 50: 3, 40: 3, 30: 3, 20: 3, 10: 3}\n",
            "The first time budget: 73.88322899999994\n",
            "actual_dictionary: {70: [23.407132999999998, 25.065826, 23.334456, 26.303234999999997], 60: [17.055281, 17.063126999999998, 17.166774], 50: [11.869168, 11.726266, 11.907739], 40: [8.050094999999999, 7.546710000000001, 7.538053], 30: [3.8059559999999997, 3.9692199999999995, 3.8635129999999998], 20: [1.7026009999999998, 1.660134, 1.7023580000000003], 10: [0.459082, 0.463218, 0.456826]}\n",
            "acc_dic: {70: 0.05043668349165285, 60: 0.002972206394495927, 50: 0.006596083143571886, 40: 0.0310394641418971, 30: 0.017427623575567534, 20: 0.011823340642248574, 10: 0.00575773043421017}\n",
            "updated_predicted_dic: {70: 26.303234999999997, 60: 22.54563, 50: 18.788025, 40: 15.030420000000001, 30: 11.272815000000001, 20: 7.515210000000001, 10: 3.7576050000000003}\n",
            "updated schedule {70: 5, 60: 3, 50: 4, 40: 4, 30: 4, 20: 3, 10: 3}\n",
            "actual_dictionary: {70: [23.407132999999998, 25.065826, 23.334456, 26.303234999999997, 23.307528], 60: [17.055281, 17.063126999999998, 17.166774], 50: [11.869168, 11.726266, 11.907739, 11.880541000000001], 40: [8.050094999999999, 7.546710000000001, 7.538053, 7.454207000000001], 30: [3.8059559999999997, 3.9692199999999995, 3.8635129999999998, 3.9523589999999995], 20: [1.7026009999999998, 1.660134, 1.7023580000000003], 10: [0.459082, 0.463218, 0.456826]}\n",
            "upadated acc_dic {70: 0.049800861197316866, 60: 0.002972206394495927, 50: 0.005950925646461742, 40: 0.03077733432481601, 30: 0.01706078978910692, 20: 0.011823340642248574, 10: 0.00575773043421017}\n",
            "updated_predicted_dic: {70: 26.303234999999997, 60: 22.54563, 50: 18.788025, 40: 15.030420000000001, 30: 11.272815000000001, 20: 7.515210000000001, 10: 3.7576050000000003}\n",
            "the value of baseline after update: 3.7576050000000003\n",
            "remaining time after update: 27.288593999999964\n",
            "updated schedule {70: 6, 60: 3, 50: 4, 40: 4, 30: 4, 20: 3, 10: 3}\n",
            "actual_dictionary: {70: [23.407132999999998, 25.065826, 23.334456, 26.303234999999997, 23.307528, 23.183425], 60: [17.055281, 17.063126999999998, 17.166774], 50: [11.869168, 11.726266, 11.907739, 11.880541000000001], 40: [8.050094999999999, 7.546710000000001, 7.538053, 7.454207000000001], 30: [3.8059559999999997, 3.9692199999999995, 3.8635129999999998, 3.9523589999999995], 20: [1.7026009999999998, 1.660134, 1.7023580000000003], 10: [0.459082, 0.463218, 0.456826]}\n",
            "upadated acc_dic {70: 0.04886504589179438, 60: 0.002972206394495927, 50: 0.005950925646461742, 40: 0.03077733432481601, 30: 0.01706078978910692, 20: 0.011823340642248574, 10: 0.00575773043421017}\n",
            "updated_predicted_dic: {70: 26.303234999999997, 60: 22.54563, 50: 18.788025, 40: 15.030420000000001, 30: 11.272815000000001, 20: 7.515210000000001, 10: 3.7576050000000003}\n",
            "the value of baseline after update: 3.7576050000000003\n",
            "remaining time after update: 4.105168999999977\n",
            "updated schedule {70: 6, 60: 3, 50: 4, 40: 4, 30: 4, 20: 3, 10: 4}\n",
            "actual_dictionary: {70: [23.407132999999998, 25.065826, 23.334456, 26.303234999999997, 23.307528, 23.183425], 60: [17.055281, 17.063126999999998, 17.166774], 50: [11.869168, 11.726266, 11.907739, 11.880541000000001], 40: [8.050094999999999, 7.546710000000001, 7.538053, 7.454207000000001], 30: [3.8059559999999997, 3.9692199999999995, 3.8635129999999998, 3.9523589999999995], 20: [1.7026009999999998, 1.660134, 1.7023580000000003], 10: [0.459082, 0.463218, 0.456826, 0.451071]}\n",
            "upadated acc_dic {70: 0.04886504589179438, 60: 0.002972206394495927, 50: 0.005950925646461742, 40: 0.03077733432481601, 30: 0.01706078978910692, 20: 0.011823340642248574, 10: 0.009587527400300735}\n",
            "updated_predicted_dic: {70: 26.303234999999997, 60: 22.54563, 50: 18.788025, 40: 15.030420000000001, 30: 11.272815000000001, 20: 7.515210000000001, 10: 3.7576050000000003}\n",
            "the value of baseline after update: 3.7576050000000003\n",
            "remaining time after update: 3.654097999999977\n",
            "The final shedule {70: 6, 60: 3, 50: 4, 40: 4, 30: 4, 20: 3, 10: 4}\n"
          ]
        }
      ]
    },
    {
      "cell_type": "code",
      "metadata": {
        "id": "igAcvw8-5NeR"
      },
      "source": [
        ""
      ],
      "execution_count": null,
      "outputs": []
    }
  ]
}