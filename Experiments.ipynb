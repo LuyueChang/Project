{
  "nbformat": 4,
  "nbformat_minor": 0,
  "metadata": {
    "colab": {
      "name": "Experiments.ipynb",
      "provenance": [],
      "collapsed_sections": [],
      "authorship_tag": "ABX9TyMP1orGmEaxky5sx92U4b+4",
      "include_colab_link": true
    },
    "kernelspec": {
      "name": "python3",
      "display_name": "Python 3"
    },
    "language_info": {
      "name": "python"
    }
  },
  "cells": [
    {
      "cell_type": "markdown",
      "metadata": {
        "id": "view-in-github",
        "colab_type": "text"
      },
      "source": [
        "<a href=\"https://colab.research.google.com/github/LuyueChang/Project/blob/main/Experiments.ipynb\" target=\"_parent\"><img src=\"https://colab.research.google.com/assets/colab-badge.svg\" alt=\"Open In Colab\"/></a>"
      ]
    },
    {
      "cell_type": "code",
      "metadata": {
        "id": "-jw7dStjgQkY"
      },
      "source": [
        "import numpy as np\n",
        "import pandas as pd\n",
        "\n",
        "#IP: additional libraries for the prediction models\n",
        "from numpy import sum as arraysum\n",
        "from numpy import sqrt\n",
        "from scipy import stats\n",
        "from sklearn.utils import shuffle\n",
        "from scipy import stats\n",
        "from sklearn.metrics import mean_squared_error"
      ],
      "execution_count": 41,
      "outputs": []
    },
    {
      "cell_type": "code",
      "metadata": {
        "colab": {
          "base_uri": "https://localhost:8080/"
        },
        "id": "zKOsX4syrCFN",
        "outputId": "cfeb04d4-bc1b-4343-c646-dd9319e72b8c"
      },
      "source": [
        "from google.colab import drive\n",
        "drive.mount('/content/drive')\n",
        "import os\n",
        "import sys\n",
        "os.chdir('/content/drive/MyDrive/Project')\n",
        "adapt_data = pd.read_csv('adapt_data.csv')\n",
        "adapt_data_sample_size = pd.read_csv('adapt_data_sample_size.csv')"
      ],
      "execution_count": 42,
      "outputs": [
        {
          "output_type": "stream",
          "name": "stdout",
          "text": [
            "Drive already mounted at /content/drive; to attempt to forcibly remount, call drive.mount(\"/content/drive\", force_remount=True).\n"
          ]
        }
      ]
    },
    {
      "cell_type": "markdown",
      "metadata": {
        "id": "n7HHE3dpPhum"
      },
      "source": [
        "# Adapt function"
      ]
    },
    {
      "cell_type": "code",
      "metadata": {
        "id": "4RPAuN5cNqxy"
      },
      "source": [
        "def adapt(T,S,A,algo):\n",
        "  # Updated this function to work for all CF algorithms, not just NMF; the algoritms can be specified through the algo parameter; see examples below\n",
        "  S_last = S\n",
        "  S_final = S\n",
        "  S_step_3 = S\n",
        "  S_loop = S\n",
        "  S_while = S\n",
        "  time_budget_schedule = T\n",
        "  baseline_list = []\n",
        "  # Get needed data from csv and name it indexed_new_df\n",
        "  group_sample_size = adapt_data_sample_size.loc[:,['sample_size', algo]].groupby(['sample_size']).count()\n",
        "  # Combine the counted number with the previous csv and rename the column\n",
        "  group_sample_size_count = adapt_data_sample_size.merge(group_sample_size,on='sample_size',left_index=True)\n",
        "  group_sample_size_count.rename(columns={algo+'_x':algo, algo+'_y':'sub_samples'},inplace=True)\n",
        "  # Create a new dataframe contains nmf\\sample_size\\sub_samples column\n",
        "  new_df = group_sample_size_count.loc[:,[algo,'sample_size','sub_samples']]\n",
        "  # Reset index of the dataframe and delete original index\n",
        "  indexed_new_df = new_df.reset_index(drop=True)\n",
        "\n",
        "  # Make a prediction dictionary according to the first value of S\n",
        "  update_s = indexed_new_df[indexed_new_df['sample_size']==S]['sub_samples'].iloc[0]\n",
        "  predict_base = indexed_new_df[algo][S-update_s]\n",
        "  # print('predict_base:',predict_base)\n",
        "  \n",
        "  predict_first = predict_base\n",
        "  key = []\n",
        "  value = []\n",
        "  value.append(predict_base)\n",
        "\n",
        "  while S > 0:\n",
        "    key.append(S)\n",
        "    predict_value = predict_base*(S-update_s)/S\n",
        "    value.append(predict_value)\n",
        "    S -= update_s\n",
        "    predict_base = predict_value\n",
        "  value.pop()\n",
        "  predicted_dic = dict(zip(key,value))\n",
        "\n",
        "  # Compute schedule \n",
        "  baseline = predicted_dic[list(predicted_dic.keys())[-1]]\n",
        "  baseline_list.append(baseline)\n",
        "  # The time_budget here is defined by T minus first subsample of S\n",
        "  time_budget = T - predict_first\n",
        "  # In the loop, the first S and the other S is different\n",
        "  p_key = []\n",
        "  for k in predicted_dic.keys():\n",
        "    p_key.append(k)\n",
        "  p_key.pop(0)\n",
        "\n",
        "  # fill schedule\n",
        "  actual_dic = {}\n",
        "  i = 1\n",
        "  time_budget2 = time_budget\n",
        "  while time_budget2 > baseline:\n",
        "    actual_dic[S_step_3] = i\n",
        "    if i >= 2:\n",
        "      time_budget2 -= predicted_dic[S_step_3]\n",
        "    # if time_budget>0,the number of subsamples will add 1,else minus 1\n",
        "      for j in p_key:\n",
        "        time_budget2 -= predicted_dic[j]\n",
        "        if time_budget2 >= 0:\n",
        "          actual_dic[j] = i\n",
        "        else:\n",
        "          actual_dic[j] = i-1\n",
        "      i += 1\n",
        "    else:\n",
        "      for j in p_key:\n",
        "        time_budget2 -= predicted_dic[j]\n",
        "        if time_budget2 >= 0:\n",
        "          actual_dic[j] = i\n",
        "        else:\n",
        "          actual_dic[j] = i-1\n",
        "      i += 1\n",
        "\n",
        "\n",
        "  for k in actual_dic.keys():\n",
        "    # if number of sub-samples is bigger than the total number of sub-samples then we set it as the total number of sub-sample. \n",
        "    if actual_dic[k] > indexed_new_df[indexed_new_df['sample_size']==k]['sub_samples'].iloc[0]:\n",
        "      actual_dic[k] = indexed_new_df[indexed_new_df['sample_size']==k]['sub_samples'].iloc[0]\n",
        "\n",
        "  # compute time_budget by real values from csv according to schedule\n",
        "  for key,value in actual_dic.items():\n",
        "    time_budget_schedule -= np.sum(indexed_new_df[indexed_new_df['sample_size']==key][0:value][algo])\n",
        "\n",
        "  # Play out computed schedule \n",
        "  # make an accuracy dictionary\n",
        "  accuracy = 0\n",
        "  acc_dic = {}\n",
        "  actual_dictionary = {}\n",
        "  for i,j in actual_dic.items():\n",
        "    current_time_list = []\n",
        "    for p in range(0,j):\n",
        "      # while accuracy < acc :\n",
        "      current_time_list.append(indexed_new_df[indexed_new_df['sample_size']==i][algo].iloc[p])\n",
        "      actual_dictionary[i] = current_time_list\n",
        "      acc_dic[i] = np.std(actual_dictionary[i])/np.mean(actual_dictionary[i])\n",
        "      if p >= 2 and acc_dic[i] <= A:\n",
        "       actual_dic[i] = p + 1;\n",
        "       break\n",
        "\n",
        "\n",
        "  # update prediction dictionary\n",
        "  key = []\n",
        "  value = []\n",
        "  # get the maximum of the first list in the actual_dictionary\n",
        "  predict_new = max(actual_dictionary[S_final])\n",
        "  value.append(predict_new)\n",
        "  S_last = S_final\n",
        "  while S_last > 0:\n",
        "    key.append(S_last)\n",
        "    predict_value = predict_new*(S_last-update_s)/S_last\n",
        "    value.append(predict_value)\n",
        "    S_last -= update_s\n",
        "    predict_new = predict_value\n",
        "  value.pop()\n",
        "  predicted_dic = dict(zip(key,value))\n",
        "  baseline = predicted_dic[list(predicted_dic.keys())[-1]]\n",
        "  time_budget_schedule_list = []\n",
        "  while time_budget_schedule > baseline and len(time_budget_schedule_list)==len(set(time_budget_schedule_list)):\n",
        "    S_loop = S_while\n",
        "    while S_loop > 0:\n",
        "      for i,j in acc_dic.items():\n",
        "        if acc_dic[i] > A:\n",
        "          if time_budget_schedule >= predicted_dic[S_loop]:\n",
        "            actual_dic[S_loop] += 1\n",
        "            time_budget_schedule -= predicted_dic[S_loop]\n",
        "            S_loop -= indexed_new_df[indexed_new_df['sample_size']==S_loop]['sub_samples'].iloc[0]\n",
        "          else:\n",
        "            S_loop -= indexed_new_df[indexed_new_df['sample_size']==S_loop]['sub_samples'].iloc[0]\n",
        "        else:\n",
        "          actual_dic[S_loop] += 0\n",
        "          time_budget_schedule -= 0\n",
        "          S_loop -= indexed_new_df[indexed_new_df['sample_size']==S_loop]['sub_samples'].iloc[0]\n",
        "\n",
        "    for k in actual_dic.keys():\n",
        "      # if number of sub-samples is bigger than the total number of sub-samples\n",
        "      # then we set it as the total number of sub-sample. \n",
        "      if actual_dic[k] > indexed_new_df[indexed_new_df['sample_size']==k]['sub_samples'].iloc[0]:\n",
        "        actual_dic[k] = indexed_new_df[indexed_new_df['sample_size']==k]['sub_samples'].iloc[0]\n",
        "\n",
        "    schedule_keys = []\n",
        "    for schedule_key in actual_dic.keys():\n",
        "      schedule_keys.append(schedule_key)\n",
        "\n",
        "    if len(set(actual_dic.values())) == 1:\n",
        "      different_S = S_while\n",
        "    else:\n",
        "      prep_i = []\n",
        "      for i in range(0,len(schedule_keys)):\n",
        "        if actual_dic[schedule_keys[i]] != actual_dic[schedule_keys[i-1]]:\n",
        "          prep_i.append(i)\n",
        "        else:\n",
        "          different_S = S_while\n",
        "      different_S = schedule_keys[prep_i[1]]\n",
        "\n",
        "    actual_dictionary = {}\n",
        "    for i,j in actual_dic.items():\n",
        "      current_time_list = []\n",
        "      for p in range(0,j):\n",
        "        current_time_list.append(indexed_new_df[indexed_new_df['sample_size']==i][algo].iloc[p])\n",
        "        actual_dictionary[i] = current_time_list\n",
        "        acc_dic[i] = np.std(actual_dictionary[i])/np.mean(actual_dictionary[i])\n",
        "        if p >= 2 and acc_dic[i] <= A:\n",
        "          actual_dic[i] = p + 1\n",
        "          break\n",
        "\n",
        "    # print('acc',acc_dic)\n",
        "    time_budget_schedule_loop = T\n",
        "    for key,value in actual_dic.items():\n",
        "      time_budget_schedule_loop -= np.sum(indexed_new_df[indexed_new_df['sample_size']==key][0:value][algo])\n",
        "\n",
        "    # update prediction dictionary\n",
        "    key = []\n",
        "    value = []\n",
        "    # get the maximum of the first list in the actual_dictionary\n",
        "    predict_new = max(actual_dictionary[S_final])\n",
        "    value.append(predict_new)\n",
        "    S_last = S_final\n",
        "    while S_last > 0:\n",
        "      key.append(S_last)\n",
        "      predict_value = predict_new*(S_last-update_s)/S_last\n",
        "      value.append(predict_value)\n",
        "      S_last -= update_s\n",
        "      predict_new = predict_value\n",
        "    value.pop()\n",
        "    predicted_dic = dict(zip(key,value))\n",
        "\n",
        "    # update baseline\n",
        "    baseline = predicted_dic[list(predicted_dic.keys())[-1]]\n",
        "    # update time budget\n",
        "    time_budget_schedule = time_budget_schedule_loop\n",
        "    time_budget_schedule_list.append(time_budget_schedule)\n",
        "  print('The final shedule',actual_dic)\n",
        "  print('The final actual_dictionary:',actual_dictionary)\n",
        "  # Updated this code to return the proposed schedule and the corresponding runtimes\n",
        "  return actual_dictionary"
      ],
      "execution_count": 162,
      "outputs": []
    },
    {
      "cell_type": "markdown",
      "metadata": {
        "id": "UGValzRsPWW5"
      },
      "source": [
        "# Complexity"
      ]
    },
    {
      "cell_type": "code",
      "metadata": {
        "id": "lQwPIZvjevx_"
      },
      "source": [
        "#IP: here is a helper function to get the number of users (m), items (n), ratings (r) from the complete dataset (df) \n",
        "def get_m_n_r_complete_dataset(df):\n",
        "  m = []; n = []; r = [];\n",
        "  for i in range(0, 100, 10):\n",
        "    m.append(df[i:i+1]['m'].to_list()[0])\n",
        "    n.append(df[i:i+1]['n'].to_list()[0])\n",
        "    r.append(df[i:i+1]['r'].to_list()[0])\n",
        "  return (m, n, r)\n",
        "\n",
        "#IP: get the actual runtimes for the complete dataset (df) for all CF algorithms; these are stored as a map where the key is the name of the algorithm and the value is the actual runtime\n",
        "def get_actual_runtime_complete_dataset(df):\n",
        "  actual_runtime = {}\n",
        "  algorithms = ['baseline', 'random', 'nmf', 'svd', 'coclustering', 'slopeone', 'knn', 'knnbaseline', 'centredknn']\n",
        "  for a in algorithms:\n",
        "    actual_runtime[a] = df[90:100][a].mean()\n",
        "  return actual_runtime\n",
        "\n",
        "#IP: below are some helper functions to compute the complexity of various CF based on the number of users (m), items (n), ratings (r) \n",
        "def comp_baseline(m, n, r):\n",
        "    return (m*m + n*n)\n",
        "\n",
        "def comp_random(m, n, r):\n",
        "    return r\n",
        "\n",
        "def comp_slopeone(m, n, r):\n",
        "    return (n*n + (r*r)/m + r)\n",
        "\n",
        "def comp_nmf(m, n, r):\n",
        "    return (r + m + n)\n",
        "\n",
        "def comp_svd(m, n, r):\n",
        "    return r\n",
        "\n",
        "def comp_knn(m, n, r):\n",
        "    return (n*n +r*r/n) # this is for item-based KNN\n",
        "\n",
        "def comp_centred_knn(m, n, r):\n",
        "    return (n*n +r*r/n + r) #item-based centred KNN\n",
        "\n",
        "def comp_coclustering(m, n, r):\n",
        "    return (m + n + r)\n",
        "\n",
        "def comp_knn_baseline(m, n, r):\n",
        "    return (n*n +r*r/n + r)"
      ],
      "execution_count": 46,
      "outputs": []
    },
    {
      "cell_type": "markdown",
      "metadata": {
        "id": "1fmrBRE0Pbid"
      },
      "source": [
        "# NRMSE"
      ]
    },
    {
      "cell_type": "code",
      "metadata": {
        "id": "XADxcW6Plung"
      },
      "source": [
        "#IP: get the number of users (m), items (n), ratings (r) for each sample size \n",
        "m, n, r = get_m_n_r_complete_dataset(adapt_data_sample_size)\n",
        "#IP: get the actual runtime of the algorithms on the complete dataset\n",
        "actual_rt = get_actual_runtime_complete_dataset(adapt_data_sample_size)"
      ],
      "execution_count": 47,
      "outputs": []
    },
    {
      "cell_type": "code",
      "metadata": {
        "id": "djI_M6lCl2VV"
      },
      "source": [
        "#IP: this function predicts the overall runtime of a CF (algo), based on linear models which learn the slope and intercept of the curves computed using the time complexity equations for the various CF models\n",
        "def predict_time(algo, m, n, r, adapt_schedule, actual_runtime, algo_complexity):\n",
        "  df = pd.DataFrame(columns=['s', 'm', 'n', 'r', algo])\n",
        "  s_list = []; m_list = []; n_list = []; r_list = []; t_list = [];\n",
        "  predictions = []; norm_rmse = [];\n",
        "\n",
        "  # IP: build the dataframe with users, items, ratings, runtimes for the linear models\n",
        "  for k,v in adapt_schedule.items():\n",
        "    s_list += [k] * len(v)\n",
        "    m_list += [m[int(k/10)]-1] * len(v)\n",
        "    n_list += [n[int(k/10)]-1] * len(v)\n",
        "    r_list += [r[int(k/10)]-1] * len(v)\n",
        "    t_list += v\n",
        "  df['s'] = s_list; df['m'] = m_list; df['n'] = n_list; df['r'] = r_list; df[algo] = t_list;\n",
        "  df = df.sort_values(by=['s'])\n",
        "  # df是按照adapt函数取出来的actual_dictionary取的对应的m,n,r和实际运行时间\n",
        "  # print('df',df)\n",
        "\n",
        "  # IP: get the samples sizes and sort them in ascending order (in Luyue's dataframe are from 100% to 10%)\n",
        "  sample_sizes = list(adapt_schedule.keys())\n",
        "  sample_sizes.sort()\n",
        "\n",
        "  #IP: for every sample size, we compute slope and intercept based on the previous runtimes and complexity equations\n",
        "  for sample in range(1, len(sample_sizes)):\n",
        "    #IP: slice original dataframe, such that we get the samples from x% + (x+10)%, then x% + (x+10)% + (x+20)%, and so on, where smallest x can be 10%\n",
        "    temp_df = df.loc[df['s'] <= sample_sizes[sample]]\n",
        "    m_array = np.array(temp_df[0:len(temp_df)-1]['m'].to_list())\n",
        "    n_array = np.array(temp_df[0:len(temp_df)-1]['n'].to_list())\n",
        "    r_array = np.array(temp_df[0:len(temp_df)-1]['r'].to_list())\n",
        "\n",
        "    #IP: compute slope and intercept using least squares regression\n",
        "    slope, intercept, r_value, p_value, std_err = stats.linregress(algo_complexity(m_array, n_array, r_array), temp_df[0:len(temp_df)-1][algo].to_list())\n",
        "    #IP: compute the predicted runtime of a specific CF on the full dataset based on slope and intercept learnt using the runtimes from the schedule\n",
        "    predicted_runtime = intercept + (algo_complexity(m[-1], n[-1], r[-1]))*slope\n",
        "    #IP: compute the normalised RMSE on the predictions\n",
        "    nrmse = mean_squared_error([actual_runtime[algo]], [predicted_runtime])/actual_runtime[algo]\n",
        "    predictions.append(predicted_runtime)\n",
        "    norm_rmse.append(nrmse)\n",
        "  #IP: create a dataframe with the predicted runtimes and normalised RMSEs on the full dataset based on different samples sizes\n",
        "  predictions_df = pd.DataFrame()\n",
        "  predictions_df['sample_size'] = sample_sizes[1:]\n",
        "  predictions_df['predicted_runtime_full_dataset'] = predictions\n",
        "  predictions_df['normalised_rmse'] = norm_rmse\n",
        "  return predictions_df"
      ],
      "execution_count": 48,
      "outputs": []
    },
    {
      "cell_type": "code",
      "metadata": {
        "colab": {
          "base_uri": "https://localhost:8080/"
        },
        "id": "HgiLnWRgZzby",
        "outputId": "a6abc313-a7a4-49a1-a7ed-8c54a6225227"
      },
      "source": [
        "adapt(100,40,0.02,'baseline')"
      ],
      "execution_count": 117,
      "outputs": [
        {
          "output_type": "stream",
          "name": "stdout",
          "text": [
            "The final shedule {40: 3, 30: 3, 20: 3, 10: 3}\n",
            "The final actual_dictionary: {40: [0.365433, 0.365583, 0.359935], 30: [0.12925899999999999, 0.130385, 0.13132], 20: [0.09908600000000001, 0.098606, 0.098544], 10: [0.018813, 0.018941999999999997, 0.019656]}\n"
          ]
        },
        {
          "output_type": "execute_result",
          "data": {
            "text/plain": [
              "{10: [0.018813, 0.018941999999999997, 0.019656],\n",
              " 20: [0.09908600000000001, 0.098606, 0.098544],\n",
              " 30: [0.12925899999999999, 0.130385, 0.13132],\n",
              " 40: [0.365433, 0.365583, 0.359935]}"
            ]
          },
          "metadata": {},
          "execution_count": 117
        }
      ]
    },
    {
      "cell_type": "code",
      "metadata": {
        "colab": {
          "base_uri": "https://localhost:8080/"
        },
        "id": "0SCu0FwLZ6KC",
        "outputId": "37fe2614-a9fc-4c16-d0a7-6d3c07aade11"
      },
      "source": [
        "adapt(80,40,0.04,'baseline')"
      ],
      "execution_count": 116,
      "outputs": [
        {
          "output_type": "stream",
          "name": "stdout",
          "text": [
            "The final shedule {40: 3, 30: 3, 20: 3, 10: 3}\n",
            "The final actual_dictionary: {40: [0.365433, 0.365583, 0.359935], 30: [0.12925899999999999, 0.130385, 0.13132], 20: [0.09908600000000001, 0.098606, 0.098544], 10: [0.018813, 0.018941999999999997, 0.019656]}\n"
          ]
        },
        {
          "output_type": "execute_result",
          "data": {
            "text/plain": [
              "{10: [0.018813, 0.018941999999999997, 0.019656],\n",
              " 20: [0.09908600000000001, 0.098606, 0.098544],\n",
              " 30: [0.12925899999999999, 0.130385, 0.13132],\n",
              " 40: [0.365433, 0.365583, 0.359935]}"
            ]
          },
          "metadata": {},
          "execution_count": 116
        }
      ]
    },
    {
      "cell_type": "markdown",
      "metadata": {
        "id": "Fp3f7CZbPsYm"
      },
      "source": [
        "# Experiments "
      ]
    },
    {
      "cell_type": "markdown",
      "metadata": {
        "id": "Slt8Z9GWMu6b"
      },
      "source": [
        "### different accuracy thresholds"
      ]
    },
    {
      "cell_type": "markdown",
      "metadata": {
        "id": "LsPSFUiibJCg"
      },
      "source": [
        "##### svd model"
      ]
    },
    {
      "cell_type": "code",
      "metadata": {
        "colab": {
          "base_uri": "https://localhost:8080/"
        },
        "id": "oRJjHE7jwK2K",
        "outputId": "0aab6671-bc14-4b87-bb33-e38c6bbcaa8c"
      },
      "source": [
        "a1 = adapt(60,40,0.001,'svd')\n",
        "p1 = predict_time('svd', m, n, r, a1, actual_rt, comp_svd)\n",
        "print('p1',p1)\n",
        "\n",
        "a2 = adapt(60,40,0.005,'svd')\n",
        "p2 = predict_time('svd', m, n, r, a2, actual_rt, comp_svd)\n",
        "print('p2',p2)\n",
        "\n",
        "a3 = adapt(60,40,0.01,'svd')\n",
        "p3 = predict_time('svd', m, n, r, a3, actual_rt, comp_svd)\n",
        "print('p3',p3)\n",
        "\n",
        "a4 = adapt(60,40,0.1,'svd')\n",
        "p4 = predict_time('svd', m, n, r, a4, actual_rt, comp_svd)\n",
        "print('p4',p4)\n"
      ],
      "execution_count": 178,
      "outputs": [
        {
          "output_type": "stream",
          "name": "stdout",
          "text": [
            "The final shedule {40: 5, 30: 3, 20: 3, 10: 3}\n",
            "The final actual_dictionary: {40: [7.691066999999999, 7.735369, 7.700385000000001, 7.667486, 7.827156], 30: [4.496131, 4.293346, 4.211626], 20: [1.8205310000000001, 1.7400520000000002, 1.8204349999999998], 10: [0.455437, 0.465924, 0.457718]}\n",
            "p1    sample_size  predicted_runtime_full_dataset  normalised_rmse\n",
            "0           20                       24.888896        10.905231\n",
            "1           30                       31.845565         5.267001\n",
            "2           40                       34.590461         3.600655\n",
            "The final shedule {40: 3, 30: 6, 20: 4, 10: 5}\n",
            "The final actual_dictionary: {40: [7.691066999999999, 7.735369, 7.700385000000001], 30: [4.496131, 4.293346, 4.211626, 4.231962, 4.295895, 4.771704], 20: [1.8205310000000001, 1.7400520000000002, 1.8204349999999998, 1.744201], 10: [0.455437, 0.465924, 0.457718, 0.451603, 0.47322700000000006]}\n",
            "p2    sample_size  predicted_runtime_full_dataset  normalised_rmse\n",
            "0           20                       24.646711        11.138071\n",
            "1           30                       32.296578         4.971513\n",
            "2           40                       33.884606         3.998983\n",
            "The final shedule {40: 3, 30: 6, 20: 4, 10: 3}\n",
            "The final actual_dictionary: {40: [7.691066999999999, 7.735369, 7.700385000000001], 30: [4.496131, 4.293346, 4.211626, 4.231962, 4.295895, 4.771704], 20: [1.8205310000000001, 1.7400520000000002, 1.8204349999999998, 1.744201], 10: [0.455437, 0.465924, 0.457718]}\n",
            "p3    sample_size  predicted_runtime_full_dataset  normalised_rmse\n",
            "0           20                       25.136429        10.669791\n",
            "1           30                       31.991251         5.170620\n",
            "2           40                       34.349758         3.734142\n",
            "The final shedule {40: 3, 30: 3, 20: 3, 10: 3}\n",
            "The final actual_dictionary: {40: [7.691066999999999, 7.735369, 7.700385000000001], 30: [4.496131, 4.293346, 4.211626], 20: [1.8205310000000001, 1.7400520000000002, 1.8204349999999998], 10: [0.455437, 0.465924, 0.457718]}\n",
            "p4    sample_size  predicted_runtime_full_dataset  normalised_rmse\n",
            "0           20                       24.888896        10.905231\n",
            "1           30                       31.845565         5.267001\n",
            "2           40                       34.219200         3.807561\n"
          ]
        }
      ]
    },
    {
      "cell_type": "code",
      "metadata": {
        "id": "7O8ncWWjwNvA"
      },
      "source": [
        "# import matplotlib.pyplot as plt\n",
        "\n",
        "# plt.figure(figsize=(18,5),dpi=80)\n",
        "# plt.figure(1)\n",
        "\n",
        "# ax1 = plt.subplot(141)\n",
        "# ax1.set_title('accuracy=0.001')\n",
        "# plt.plot(p1['sample_size'],p1['normalised_rmse'],color='red',label='accuracy=0.001')\n",
        "# ax1.set_xlabel('Sample size')\n",
        "# ax1.set_ylabel('NRMSE')\n",
        "\n",
        "# ax2 = plt.subplot(142)\n",
        "# ax2.set_title('accuracy=0.005')\n",
        "# plt.plot(p2['sample_size'],p2['normalised_rmse'],color='green',label='accuracy=0.005')\n",
        "# ax2.set_xlabel('Sample size')\n",
        "# ax2.set_ylabel('NRMSE')\n",
        "\n",
        "# ax3 = plt.subplot(143)\n",
        "# ax3.set_title('accuracy=0.01')\n",
        "# plt.plot(p3['sample_size'],p3['normalised_rmse'],color='blue',label='accuracy=0.01')\n",
        "# ax3.set_xlabel('Sample size')\n",
        "# ax3.set_ylabel('NRMSE')\n",
        "\n",
        "# ax4 = plt.subplot(144)\n",
        "# ax4.set_title('accuracy=0.1')\n",
        "# plt.plot(p4['sample_size'],p4['normalised_rmse'],color='orange',label='accuracy=0.1')\n",
        "# ax4.set_xlabel('Sample size')\n",
        "# ax4.set_ylabel('NRMSE')\n",
        "\n",
        "# plt.suptitle('S=40,T=60,CF model=svd')\n",
        "# plt.show()"
      ],
      "execution_count": 193,
      "outputs": []
    },
    {
      "cell_type": "code",
      "metadata": {
        "colab": {
          "base_uri": "https://localhost:8080/",
          "height": 404
        },
        "id": "Co5rhJ_WubX7",
        "outputId": "609b63cf-7724-45cc-c6d8-80af185ac80d"
      },
      "source": [
        "plt.figure(figsize=(6,6))\n",
        "plt.plot(p1['sample_size'],p1['normalised_rmse'],color='red',label='accuracy=0.001')\n",
        "plt.plot(p2['sample_size'],p2['normalised_rmse'],color='green',label='accuracy=0.005')\n",
        "plt.plot(p3['sample_size'],p3['normalised_rmse'],color='blue',label='accuracy=0.01')\n",
        "plt.plot(p4['sample_size'],p4['normalised_rmse'],color='orange',label='accuracy=0.1')\n",
        "plt.xlabel('Sample size')\n",
        "plt.ylabel('Normalised RMSE')\n",
        "plt.title('S=40,T=60,CF model=svd')\n",
        "plt.legend()\n",
        "plt.show()"
      ],
      "execution_count": 183,
      "outputs": [
        {
          "output_type": "display_data",
          "data": {
            "image/png": "[encoded data removed]",
            "text/plain": [
              "<Figure size 432x432 with 1 Axes>"
            ]
          },
          "metadata": {
            "needs_background": "light"
          }
        }
      ]
    },
    {
      "cell_type": "markdown",
      "metadata": {
        "id": "5wZsuGWRMhyo"
      },
      "source": [
        "##### baseline model"
      ]
    },
    {
      "cell_type": "code",
      "metadata": {
        "colab": {
          "base_uri": "https://localhost:8080/"
        },
        "id": "3C9M13BCx_aw",
        "outputId": "3581fd83-9ca8-42b7-b834-684c359905d9"
      },
      "source": [
        "a1_baseline = adapt(4,40,0.001,'baseline')\n",
        "p1_baseline = predict_time('baseline', m, n, r, a1_baseline, actual_rt, comp_baseline)\n",
        "print('p1_baseline',p1_baseline)\n",
        "\n",
        "a2_baseline = adapt(4,40,0.005,'baseline')\n",
        "p2_baseline = predict_time('baseline', m, n, r, a2_baseline, actual_rt, comp_baseline)\n",
        "print('p2_baseline',p2_baseline)\n",
        "\n",
        "a3_baseline = adapt(4,40,0.01,'baseline')\n",
        "p3_baseline = predict_time('baseline', m, n, r, a3_baseline, actual_rt, comp_baseline)\n",
        "print('p3_baseline',p3_baseline)\n",
        "\n",
        "a4_baseline = adapt(4,40,0.1,'baseline')\n",
        "p4_baseline = predict_time('baseline', m, n, r, a4_baseline, actual_rt, comp_baseline)\n",
        "print('p4_baseline',p4_baseline)"
      ],
      "execution_count": 184,
      "outputs": [
        {
          "output_type": "stream",
          "name": "stdout",
          "text": [
            "The final shedule {40: 7, 30: 5, 20: 6, 10: 6}\n",
            "The final actual_dictionary: {40: [0.365433, 0.365583, 0.359935, 0.366079, 0.365008, 0.366183, 0.360799], 30: [0.12925899999999999, 0.130385, 0.13132, 0.129436, 0.13172999999999999], 20: [0.09908600000000001, 0.098606, 0.098544, 0.099173, 0.099478, 0.10008500000000001], 10: [0.018813, 0.018941999999999997, 0.019656, 0.019617, 0.019672, 0.019293]}\n",
            "p1_baseline    sample_size  predicted_runtime_full_dataset  normalised_rmse\n",
            "0           20                        1.594152         0.359170\n",
            "1           30                        0.948774         1.006702\n",
            "2           40                        1.529383         0.409416\n",
            "The final shedule {40: 7, 30: 6, 20: 3, 10: 10}\n",
            "The final actual_dictionary: {40: [0.365433, 0.365583, 0.359935, 0.366079, 0.365008, 0.366183, 0.360799], 30: [0.12925899999999999, 0.130385, 0.13132, 0.129436, 0.13172999999999999, 0.128729], 20: [0.09908600000000001, 0.098606, 0.098544], 10: [0.018813, 0.018941999999999997, 0.019656, 0.019617, 0.019672, 0.019293, 0.019237999999999998, 0.019614, 0.019455, 0.019443000000000002]}\n",
            "p2_baseline    sample_size  predicted_runtime_full_dataset  normalised_rmse\n",
            "0           20                        1.581485         0.368738\n",
            "1           30                        0.944459         1.012130\n",
            "2           40                        1.503737         0.430220\n",
            "The final shedule {40: 3, 30: 3, 20: 3, 10: 10}\n",
            "The final actual_dictionary: {40: [0.365433, 0.365583, 0.359935], 30: [0.12925899999999999, 0.130385, 0.13132], 20: [0.09908600000000001, 0.098606, 0.098544], 10: [0.018813, 0.018941999999999997, 0.019656, 0.019617, 0.019672, 0.019293, 0.019237999999999998, 0.019614, 0.019455, 0.019443000000000002]}\n",
            "p3_baseline    sample_size  predicted_runtime_full_dataset  normalised_rmse\n",
            "0           20                        1.586830         0.364685\n",
            "1           30                        1.024515         0.913798\n",
            "2           40                        1.419358         0.502308\n",
            "The final shedule {40: 3, 30: 3, 20: 3, 10: 3}\n",
            "The final actual_dictionary: {40: [0.365433, 0.365583, 0.359935], 30: [0.12925899999999999, 0.130385, 0.13132], 20: [0.09908600000000001, 0.098606, 0.098544], 10: [0.018813, 0.018941999999999997, 0.019656]}\n",
            "p4_baseline    sample_size  predicted_runtime_full_dataset  normalised_rmse\n",
            "0           20                        1.591274         0.361333\n",
            "1           30                        0.943238         1.013668\n",
            "2           40                        1.466579         0.461278\n"
          ]
        }
      ]
    },
    {
      "cell_type": "code",
      "metadata": {
        "id": "mnaBCmlVL87M"
      },
      "source": [
        "# plt.figure(figsize=(18,5),dpi=80)\n",
        "# plt.figure(1)\n",
        "\n",
        "# ax1 = plt.subplot(141)\n",
        "# ax1.set_title('accuracy=0.001')\n",
        "# plt.plot(p1_baseline['sample_size'],p1_baseline['normalised_rmse'],color='red',label='accuracy=0.001')\n",
        "# ax1.set_xlabel('Sample size')\n",
        "# ax1.set_ylabel('NRMSE')\n",
        "\n",
        "# ax2 = plt.subplot(142)\n",
        "# ax2.set_title('accuracy=0.005')\n",
        "# plt.plot(p2_baseline['sample_size'],p2_baseline['normalised_rmse'],color='green',label='accuracy=0.005')\n",
        "# ax2.set_xlabel('Sample size')\n",
        "# ax2.set_ylabel('NRMSE')\n",
        "\n",
        "# ax3 = plt.subplot(143)\n",
        "# ax3.set_title('accuracy=0.01')\n",
        "# plt.plot(p3_baseline['sample_size'],p3_baseline['normalised_rmse'],color='blue',label='accuracy=0.01')\n",
        "# ax3.set_xlabel('Sample size')\n",
        "# ax3.set_ylabel('NRMSE')\n",
        "\n",
        "# ax4 = plt.subplot(144)\n",
        "# ax4.set_title('accuracy=0.1')\n",
        "# plt.plot(p4_baseline['sample_size'],p4_baseline['normalised_rmse'],color='orange',label='accuracy=0.1')\n",
        "# ax4.set_xlabel('Sample size')\n",
        "# ax4.set_ylabel('NRMSE')\n",
        "\n",
        "# plt.suptitle('S=40,T=60,CF model=baseline')\n",
        "# plt.show()"
      ],
      "execution_count": 194,
      "outputs": []
    },
    {
      "cell_type": "code",
      "metadata": {
        "colab": {
          "base_uri": "https://localhost:8080/",
          "height": 404
        },
        "id": "7JkaZ-5HwGGV",
        "outputId": "f7524a4b-f96a-4c15-fa2d-408a15f12cd9"
      },
      "source": [
        "plt.figure(figsize=(6,6))\n",
        "plt.plot(p1_baseline['sample_size'],p1_baseline['normalised_rmse'],color='red',label='accuracy=0.001')\n",
        "plt.plot(p2_baseline['sample_size'],p2_baseline['normalised_rmse'],color='green',label='accuracy=0.005')\n",
        "plt.plot(p3_baseline['sample_size'],p3_baseline['normalised_rmse'],color='blue',label='accuracy=0.01')\n",
        "plt.plot(p4_baseline['sample_size'],p4_baseline['normalised_rmse'],color='orange',label='accuracy=0.1')\n",
        "plt.xlabel('Sample size')\n",
        "plt.ylabel('Normalised RMSE')\n",
        "plt.title('S=40,T=60,CF model=baseline')\n",
        "plt.legend()\n",
        "plt.show()"
      ],
      "execution_count": 186,
      "outputs": [
        {
          "output_type": "display_data",
          "data": {
            "image/png": "[encoded data removed]",
            "text/plain": [
              "<Figure size 432x432 with 1 Axes>"
            ]
          },
          "metadata": {
            "needs_background": "light"
          }
        }
      ]
    },
    {
      "cell_type": "markdown",
      "metadata": {
        "id": "lVFxxffuM3MO"
      },
      "source": [
        "##### NMF model"
      ]
    },
    {
      "cell_type": "code",
      "metadata": {
        "colab": {
          "base_uri": "https://localhost:8080/"
        },
        "id": "wWoCghpbMccv",
        "outputId": "7f0cb662-cb13-45e1-9087-b137edebc81c"
      },
      "source": [
        "a1_nmf = adapt(60,40,0.001,'nmf')\n",
        "p1_nmf = predict_time('nmf', m, n, r, a1_nmf, actual_rt, comp_nmf)\n",
        "print('p1_nmf',p1_nmf)\n",
        "\n",
        "a2_nmf = adapt(60,40,0.005,'nmf')\n",
        "p2_nmf = predict_time('nmf', m, n, r, a2_nmf, actual_rt, comp_nmf)\n",
        "print('p2_nmf',p2_nmf)\n",
        "\n",
        "a3_nmf = adapt(60,40,0.01,'nmf')\n",
        "p3_nmf = predict_time('nmf', m, n, r, a3_nmf, actual_rt, comp_nmf)\n",
        "print('p3_nmf',p3_nmf)\n",
        "\n",
        "a4_nmf = adapt(60,40,0.1,'nmf')\n",
        "p4_nmf = predict_time('nmf', m, n, r, a4_nmf, actual_rt, comp_nmf)\n",
        "print('p4_nmf',p4_nmf)"
      ],
      "execution_count": 187,
      "outputs": [
        {
          "output_type": "stream",
          "name": "stdout",
          "text": [
            "The final shedule {40: 4, 30: 5, 20: 4, 10: 3}\n",
            "The final actual_dictionary: {40: [8.050094999999999, 7.546710000000001, 7.538053, 7.454207000000001], 30: [3.8059559999999997, 3.9692199999999995, 3.8635129999999998, 3.9523589999999995, 4.046638], 20: [1.7026009999999998, 1.660134, 1.7023580000000003, 1.655218], 10: [0.459082, 0.463218, 0.456826]}\n",
            "p1_nmf    sample_size  predicted_runtime_full_dataset  normalised_rmse\n",
            "0           20                       23.003463        12.408253\n",
            "1           30                       28.277077         7.589890\n",
            "2           40                       33.829630         3.790096\n",
            "The final shedule {40: 4, 30: 5, 20: 4, 10: 2}\n",
            "The final actual_dictionary: {40: [8.050094999999999, 7.546710000000001, 7.538053, 7.454207000000001], 30: [3.8059559999999997, 3.9692199999999995, 3.8635129999999998, 3.9523589999999995, 4.046638], 20: [1.7026009999999998, 1.660134, 1.7023580000000003, 1.655218], 10: [0.459082, 0.463218]}\n",
            "p2_nmf    sample_size  predicted_runtime_full_dataset  normalised_rmse\n",
            "0           20                       22.978458        12.433906\n",
            "1           30                       28.635467         7.305197\n",
            "2           40                       34.365873         3.492295\n",
            "The final shedule {40: 4, 30: 5, 20: 4, 10: 2}\n",
            "The final actual_dictionary: {40: [8.050094999999999, 7.546710000000001, 7.538053, 7.454207000000001], 30: [3.8059559999999997, 3.9692199999999995, 3.8635129999999998, 3.9523589999999995, 4.046638], 20: [1.7026009999999998, 1.660134, 1.7023580000000003, 1.655218], 10: [0.459082, 0.463218]}\n",
            "p3_nmf    sample_size  predicted_runtime_full_dataset  normalised_rmse\n",
            "0           20                       22.978458        12.433906\n",
            "1           30                       28.635467         7.305197\n",
            "2           40                       34.365873         3.492295\n",
            "The final shedule {40: 3, 30: 3, 20: 3, 10: 2}\n",
            "The final actual_dictionary: {40: [8.050094999999999, 7.546710000000001, 7.538053], 30: [3.8059559999999997, 3.9692199999999995, 3.8635129999999998], 20: [1.7026009999999998, 1.660134, 1.7023580000000003], 10: [0.459082, 0.463218]}\n",
            "p4_nmf    sample_size  predicted_runtime_full_dataset  normalised_rmse\n",
            "0           20                       22.850078        12.566031\n",
            "1           30                       27.983098         7.827479\n",
            "2           40                       34.187448         3.590030\n"
          ]
        }
      ]
    },
    {
      "cell_type": "code",
      "metadata": {
        "id": "OVIIF_4cNtKr"
      },
      "source": [
        "# plt.figure(figsize=(18,5),dpi=80)\n",
        "# plt.figure(1)\n",
        "\n",
        "# ax1 = plt.subplot(141)\n",
        "# ax1.set_title('accuracy=0.001')\n",
        "# plt.plot(p1_nmf['sample_size'],p1_nmf['normalised_rmse'],color='red',label='accuracy=0.001')\n",
        "# ax1.set_xlabel('Sample size')\n",
        "# ax1.set_ylabel('NRMSE')\n",
        "\n",
        "# ax2 = plt.subplot(142)\n",
        "# ax2.set_title('accuracy=0.005')\n",
        "# plt.plot(p2_nmf['sample_size'],p2_nmf['normalised_rmse'],color='green',label='accuracy=0.005')\n",
        "# ax2.set_xlabel('Sample size')\n",
        "# ax2.set_ylabel('NRMSE')\n",
        "\n",
        "# ax3 = plt.subplot(143)\n",
        "# ax3.set_title('accuracy=0.01')\n",
        "# plt.plot(p3_nmf['sample_size'],p3_nmf['normalised_rmse'],color='blue',label='accuracy=0.01')\n",
        "# ax3.set_xlabel('Sample size')\n",
        "# ax3.set_ylabel('NRMSE')\n",
        "\n",
        "# ax4 = plt.subplot(144)\n",
        "# ax4.set_title('accuracy=0.1')\n",
        "# plt.plot(p4_nmf['sample_size'],p4_nmf['normalised_rmse'],color='orange',label='accuracy=0.1')\n",
        "# ax4.set_xlabel('Sample size')\n",
        "# ax4.set_ylabel('NRMSE')\n",
        "\n",
        "# plt.suptitle('S=40,T=60,CF model=NMF')\n",
        "# plt.show()"
      ],
      "execution_count": 195,
      "outputs": []
    },
    {
      "cell_type": "code",
      "metadata": {
        "colab": {
          "base_uri": "https://localhost:8080/",
          "height": 404
        },
        "id": "9f7G-CiAsWbb",
        "outputId": "dc9ce40d-6bb5-4a13-ca65-daa25aab8a62"
      },
      "source": [
        "plt.figure(figsize=(6,6))\n",
        "plt.plot(p1_nmf['sample_size'],p1_nmf['normalised_rmse'],color='red',label='accuracy=0.001')\n",
        "plt.plot(p2_nmf['sample_size'],p2_nmf['normalised_rmse'],color='green',label='accuracy=0.005')\n",
        "plt.plot(p3_nmf['sample_size'],p3_nmf['normalised_rmse'],color='blue',label='accuracy=0.01')\n",
        "plt.plot(p4_nmf['sample_size'],p4_nmf['normalised_rmse'],color='orange',label='accuracy=0.1')\n",
        "plt.xlabel('Sample size')\n",
        "plt.ylabel('Normalised RMSE')\n",
        "plt.title('S=40,T=60,CF model=NMF')\n",
        "plt.legend()\n",
        "plt.show()"
      ],
      "execution_count": 189,
      "outputs": [
        {
          "output_type": "display_data",
          "data": {
            "image/png": "[encoded data removed]",
            "text/plain": [
              "<Figure size 432x432 with 1 Axes>"
            ]
          },
          "metadata": {
            "needs_background": "light"
          }
        }
      ]
    },
    {
      "cell_type": "markdown",
      "metadata": {
        "id": "_562EaKVN-zI"
      },
      "source": [
        "##### coclustering model"
      ]
    },
    {
      "cell_type": "code",
      "metadata": {
        "colab": {
          "base_uri": "https://localhost:8080/"
        },
        "id": "aQdQ31bGN8FT",
        "outputId": "862da228-4ed1-46ae-efe6-1e6c687275a4"
      },
      "source": [
        "a1_co = adapt(60,40,0.001,'coclustering')\n",
        "p1_co = predict_time('coclustering', m, n, r, a1_co, actual_rt, comp_coclustering)\n",
        "print('p1_co',p1_co)\n",
        "\n",
        "a2_co = adapt(60,40,0.005,'coclustering')\n",
        "p2_co = predict_time('coclustering', m, n, r, a2_co, actual_rt, comp_coclustering)\n",
        "print('p2_co',p2_co)\n",
        "\n",
        "a3_co = adapt(60,40,0.01,'coclustering')\n",
        "p3_co = predict_time('coclustering', m, n, r, a3_co, actual_rt, comp_coclustering)\n",
        "print('p3_co',p3_co)\n",
        "\n",
        "a4_co = adapt(60,40,0.1,'coclustering')\n",
        "p4_co = predict_time('coclustering', m, n, r, a4_co, actual_rt, comp_coclustering)\n",
        "print('p4_co',p4_co)"
      ],
      "execution_count": 190,
      "outputs": [
        {
          "output_type": "stream",
          "name": "stdout",
          "text": [
            "The final shedule {40: 10, 30: 10, 20: 10, 10: 10}\n",
            "The final actual_dictionary: {40: [2.6041279999999998, 2.606566, 2.575149, 2.539203, 2.652314, 2.513234, 2.577128, 2.615141, 2.672886, 2.563981], 30: [1.189568, 1.242687, 1.2341010000000001, 1.244497, 1.237558, 1.259327, 1.219331, 1.246478, 1.238777, 1.23774], 20: [0.567479, 0.555107, 0.560311, 0.555375, 0.555175, 0.5585479999999999, 0.574965, 0.563978, 0.545555, 0.563109], 10: [0.18756, 0.190939, 0.187822, 0.188368, 0.189708, 0.348296, 0.18327100000000002, 0.185357, 0.19329200000000002, 0.192012]}\n",
            "p1_co    sample_size  predicted_runtime_full_dataset  normalised_rmse\n",
            "0           20                        6.717355         7.074824\n",
            "1           30                        8.450272         5.068970\n",
            "2           40                       11.105449         2.642773\n",
            "The final shedule {40: 10, 30: 10, 20: 10, 10: 10}\n",
            "The final actual_dictionary: {40: [2.6041279999999998, 2.606566, 2.575149, 2.539203, 2.652314, 2.513234, 2.577128, 2.615141, 2.672886, 2.563981], 30: [1.189568, 1.242687, 1.2341010000000001, 1.244497, 1.237558, 1.259327, 1.219331, 1.246478, 1.238777, 1.23774], 20: [0.567479, 0.555107, 0.560311, 0.555375, 0.555175, 0.5585479999999999, 0.574965, 0.563978, 0.545555, 0.563109], 10: [0.18756, 0.190939, 0.187822, 0.188368, 0.189708, 0.348296, 0.18327100000000002, 0.185357, 0.19329200000000002, 0.192012]}\n",
            "p2_co    sample_size  predicted_runtime_full_dataset  normalised_rmse\n",
            "0           20                        6.717355         7.074824\n",
            "1           30                        8.450272         5.068970\n",
            "2           40                       11.105449         2.642773\n",
            "The final shedule {40: 3, 30: 10, 20: 3, 10: 3}\n",
            "The final actual_dictionary: {40: [2.6041279999999998, 2.606566, 2.575149], 30: [1.189568, 1.242687, 1.2341010000000001, 1.244497, 1.237558, 1.259327, 1.219331, 1.246478, 1.238777, 1.23774], 20: [0.567479, 0.555107, 0.560311], 10: [0.18756, 0.190939, 0.187822]}\n",
            "p3_co    sample_size  predicted_runtime_full_dataset  normalised_rmse\n",
            "0           20                        6.958113         6.776191\n",
            "1           30                        8.706034         4.801177\n",
            "2           40                       10.520484         3.110025\n",
            "The final shedule {40: 3, 30: 3, 20: 3, 10: 3}\n",
            "The final actual_dictionary: {40: [2.6041279999999998, 2.606566, 2.575149], 30: [1.189568, 1.242687, 1.2341010000000001], 20: [0.567479, 0.555107, 0.560311], 10: [0.18756, 0.190939, 0.187822]}\n",
            "p4_co    sample_size  predicted_runtime_full_dataset  normalised_rmse\n",
            "0           20                        7.023874         6.695742\n",
            "1           30                        8.348614         5.177428\n",
            "2           40                       10.986040         2.735066\n"
          ]
        }
      ]
    },
    {
      "cell_type": "code",
      "metadata": {
        "id": "TAyGDuO8OXC8"
      },
      "source": [
        "# plt.figure(figsize=(18,5),dpi=80)\n",
        "# plt.figure(1)\n",
        "\n",
        "# ax1 = plt.subplot(141)\n",
        "# ax1.set_title('accuracy=0.001')\n",
        "# plt.plot(p1_co['sample_size'],p1_co['normalised_rmse'],color='red',label='accuracy=0.001')\n",
        "# ax1.set_xlabel('Sample size')\n",
        "# ax1.set_ylabel('NRMSE')\n",
        "\n",
        "# ax2 = plt.subplot(142)\n",
        "# ax2.set_title('accuracy=0.005')\n",
        "# plt.plot(p2_co['sample_size'],p2_co['normalised_rmse'],color='green',label='accuracy=0.005')\n",
        "# ax2.set_xlabel('Sample size')\n",
        "# ax2.set_ylabel('NRMSE')\n",
        "\n",
        "# ax3 = plt.subplot(143)\n",
        "# ax3.set_title('accuracy=0.01')\n",
        "# plt.plot(p3_co['sample_size'],p3_co['normalised_rmse'],color='blue',label='accuracy=0.01')\n",
        "# ax3.set_xlabel('Sample size')\n",
        "# ax3.set_ylabel('NRMSE')\n",
        "\n",
        "# ax4 = plt.subplot(144)\n",
        "# ax4.set_title('accuracy=0.1')\n",
        "# plt.plot(p4_co['sample_size'],p4_co['normalised_rmse'],color='orange',label='accuracy=0.1')\n",
        "# ax4.set_xlabel('Sample size')\n",
        "# ax4.set_ylabel('NRMSE')\n",
        "\n",
        "# plt.suptitle('S=40,T=60,CF model=co-clustering')\n",
        "# plt.show()"
      ],
      "execution_count": 196,
      "outputs": []
    },
    {
      "cell_type": "code",
      "metadata": {
        "colab": {
          "base_uri": "https://localhost:8080/",
          "height": 404
        },
        "id": "offCIVKrw_dR",
        "outputId": "d9ce5941-9f07-491e-daa9-3cefa5104193"
      },
      "source": [
        "plt.figure(figsize=(6,6))\n",
        "plt.plot(p1_co['sample_size'],p1_co['normalised_rmse'],color='red',label='accuracy=0.001')\n",
        "plt.plot(p2_co['sample_size'],p2_co['normalised_rmse'],color='green',label='accuracy=0.005')\n",
        "plt.plot(p3_co['sample_size'],p3_co['normalised_rmse'],color='blue',label='accuracy=0.01')\n",
        "plt.plot(p4_co['sample_size'],p4_co['normalised_rmse'],color='orange',label='accuracy=0.1')\n",
        "plt.xlabel('Sample size')\n",
        "plt.ylabel('Normalised RMSE')\n",
        "plt.title('S=40,T=60,CF model=Co-clustering')\n",
        "plt.legend()\n",
        "plt.show()"
      ],
      "execution_count": 198,
      "outputs": [
        {
          "output_type": "display_data",
          "data": {
            "image/png": "[encoded data removed]",
            "text/plain": [
              "<Figure size 432x432 with 1 Axes>"
            ]
          },
          "metadata": {
            "needs_background": "light"
          }
        }
      ]
    },
    {
      "cell_type": "markdown",
      "metadata": {
        "id": "5mcdhVOgP4QF"
      },
      "source": [
        "## different sample size"
      ]
    },
    {
      "cell_type": "markdown",
      "metadata": {
        "id": "Zk1l7uDbQloG"
      },
      "source": [
        "##### svd model"
      ]
    },
    {
      "cell_type": "code",
      "metadata": {
        "colab": {
          "base_uri": "https://localhost:8080/"
        },
        "id": "rftDdXTxQSy0",
        "outputId": "1f9e779f-15d2-4f24-b97b-563c1ae5650e"
      },
      "source": [
        "svd_20 = adapt(300,20,0.01,'svd')\n",
        "svd_p_20 = predict_time('svd', m, n, r, svd_20, actual_rt, comp_svd)\n",
        "print('svd_p_20',svd_p_20)\n",
        "# svd_20_nrmse.append(svd_p_20_1['normalised_rmse'][0])\n",
        "svd_40 = adapt(300,40,0.01,'svd')\n",
        "svd_p_40 = predict_time('svd', m, n, r, svd_40, actual_rt, comp_svd)\n",
        "print('svd_p_40',svd_p_40)\n",
        "\n",
        "svd_60 = adapt(300,60,0.01,'svd')\n",
        "svd_p_60 = predict_time('svd', m, n, r, svd_60, actual_rt, comp_svd)\n",
        "print('svd_p_60',svd_p_60)\n",
        "\n",
        "svd_80 = adapt(300,80,0.01,'svd')\n",
        "svd_p_80 = predict_time('svd', m, n, r, svd_80, actual_rt, comp_svd)\n",
        "print('svd_p_80',svd_p_80)"
      ],
      "execution_count": 209,
      "outputs": [
        {
          "output_type": "stream",
          "name": "stdout",
          "text": [
            "The final shedule {20: 10, 10: 3}\n",
            "The final actual_dictionary: {20: [1.8205310000000001, 1.7400520000000002, 1.8204349999999998, 1.744201, 1.765466, 1.752802, 1.887304, 1.8699849999999998, 1.7037330000000002, 1.7846090000000001], 10: [0.455437, 0.465924, 0.457718]}\n",
            "svd_p_20    sample_size  predicted_runtime_full_dataset  normalised_rmse\n",
            "0           20                       25.057204        10.744867\n",
            "The final shedule {40: 3, 30: 10, 20: 10, 10: 3}\n",
            "The final actual_dictionary: {40: [7.691066999999999, 7.735369, 7.700385000000001], 30: [4.496131, 4.293346, 4.211626, 4.231962, 4.295895, 4.771704, 4.158374, 4.151807, 4.252987, 4.242529], 20: [1.8205310000000001, 1.7400520000000002, 1.8204349999999998, 1.744201, 1.765466, 1.752802, 1.887304, 1.8699849999999998, 1.7037330000000002, 1.7846090000000001], 10: [0.455437, 0.465924, 0.457718]}\n",
            "svd_p_40    sample_size  predicted_runtime_full_dataset  normalised_rmse\n",
            "0           20                       24.983370        10.815070\n",
            "1           30                       32.965219         4.549139\n",
            "2           40                       34.459870         3.672775\n",
            "The final shedule {60: 3, 50: 3, 40: 3, 30: 10, 20: 10, 10: 3}\n",
            "The final actual_dictionary: {60: [17.310782, 17.293651, 17.121729000000002], 50: [11.924088000000001, 11.847082, 11.999961], 40: [7.691066999999999, 7.735369, 7.700385000000001], 30: [4.496131, 4.293346, 4.211626, 4.231962, 4.295895, 4.771704, 4.158374, 4.151807, 4.252987, 4.242529], 20: [1.8205310000000001, 1.7400520000000002, 1.8204349999999998, 1.744201, 1.765466, 1.752802, 1.887304, 1.8699849999999998, 1.7037330000000002, 1.7846090000000001], 10: [0.455437, 0.465924, 0.457718]}\n",
            "svd_p_60    sample_size  predicted_runtime_full_dataset  normalised_rmse\n",
            "0           20                       24.983370        10.815070\n",
            "1           30                       32.397587         4.906505\n",
            "2           40                       34.459870         3.672775\n",
            "3           50                       35.902427         2.915792\n",
            "4           60                       36.973568         2.410163\n",
            "The final shedule {80: 3, 70: 2, 60: 2, 50: 2, 40: 2, 30: 10, 20: 10, 10: 3}\n",
            "The final actual_dictionary: {80: [30.718491999999998, 30.537659, 30.473137], 70: [23.632872, 23.556578], 60: [17.310782, 17.293651], 50: [11.924088000000001, 11.847082], 40: [7.691066999999999, 7.735369], 30: [4.496131, 4.293346, 4.211626, 4.231962, 4.295895, 4.771704, 4.158374, 4.151807, 4.252987, 4.242529], 20: [1.8205310000000001, 1.7400520000000002, 1.8204349999999998, 1.744201, 1.765466, 1.752802, 1.887304, 1.8699849999999998, 1.7037330000000002, 1.7846090000000001], 10: [0.455437, 0.465924, 0.457718]}\n",
            "svd_p_80    sample_size  predicted_runtime_full_dataset  normalised_rmse\n",
            "0           20                       25.140258        10.666169\n",
            "1           30                       32.918265         4.578188\n",
            "2           40                       33.985411         3.940818\n",
            "3           50                       35.354307         3.193140\n",
            "4           60                       36.719759         2.525624\n",
            "5           70                       37.281504         2.273707\n",
            "6           80                       37.424921         2.211511\n"
          ]
        }
      ]
    },
    {
      "cell_type": "code",
      "metadata": {
        "colab": {
          "base_uri": "https://localhost:8080/",
          "height": 295
        },
        "id": "ZgrQQK3JOhRU",
        "outputId": "6d999ea9-b6e2-4efe-a5cf-581c4138424a"
      },
      "source": [
        "plt.title('T=300,accuracy=0.01,model=SVD')\n",
        "plt.plot(svd_p_20['sample_size'],svd_p_20['normalised_rmse'],color='red',label='Sample size = 20')\n",
        "plt.plot(svd_p_40['sample_size'],svd_p_40['normalised_rmse'],color='green',label='Sample size = 40')\n",
        "plt.plot(svd_p_60['sample_size'],svd_p_60['normalised_rmse'],color='blue',label='Sample size = 60')\n",
        "plt.plot(svd_p_80['sample_size'],svd_p_80['normalised_rmse'],color='orange',label='Sample size = 80')\n",
        "\n",
        "plt.legend()\n",
        "plt.xlabel('Sample Size')\n",
        "plt.ylabel('Normalised RMSE')\n",
        "plt.show()"
      ],
      "execution_count": 214,
      "outputs": [
        {
          "output_type": "display_data",
          "data": {
            "image/png": "[encoded data removed]",
            "text/plain": [
              "<Figure size 432x288 with 1 Axes>"
            ]
          },
          "metadata": {
            "needs_background": "light"
          }
        }
      ]
    },
    {
      "cell_type": "markdown",
      "metadata": {
        "id": "k52S4h8SAJp-"
      },
      "source": [
        "##### baseline"
      ]
    },
    {
      "cell_type": "code",
      "metadata": {
        "colab": {
          "base_uri": "https://localhost:8080/",
          "height": 819
        },
        "id": "t4KdZie9RCde",
        "outputId": "64d858fa-d885-466f-b502-77a819c2fde0"
      },
      "source": [
        "baseline_20 = adapt(300,20,0.01,'baseline')\n",
        "baseline_p_20 = predict_time('baseline', m, n, r, baseline_20, actual_rt, comp_baseline)\n",
        "print('baseline_p_20',baseline_p_20)\n",
        "# svd_20_nrmse.append(svd_p_20_1['normalised_rmse'][0])\n",
        "baseline_40 = adapt(300,40,0.01,'baseline')\n",
        "baseline_p_40 = predict_time('baseline', m, n, r, baseline_40, actual_rt, comp_baseline)\n",
        "print('baseline_p_40',baseline_p_40)\n",
        "\n",
        "baseline_60 = adapt(300,60,0.01,'baseline')\n",
        "baseline_p_60 = predict_time('baseline', m, n, r, baseline_60, actual_rt, comp_baseline)\n",
        "print('baseline_p_60',baseline_p_60)\n",
        "\n",
        "baseline_80 = adapt(300,80,0.01,'baseline')\n",
        "baseline_p_80 = predict_time('baseline', m, n, r, baseline_80, actual_rt, comp_baseline)\n",
        "print('baseline_p_80',baseline_p_80)\n",
        "\n",
        "plt.title('T=300,accuracy=0.01,model=baseline')\n",
        "plt.plot(baseline_p_20['sample_size'],baseline_p_20['normalised_rmse'],color='red',label='Sample size = 20')\n",
        "plt.plot(baseline_p_40['sample_size'],baseline_p_40['normalised_rmse'],color='green',label='Sample size = 40')\n",
        "plt.plot(baseline_p_60['sample_size'],baseline_p_60['normalised_rmse'],color='blue',label='Sample size = 60')\n",
        "plt.plot(baseline_p_80['sample_size'],baseline_p_80['normalised_rmse'],color='orange',label='Sample size = 80')\n",
        "\n",
        "plt.legend()\n",
        "plt.xlabel('Sample Size')\n",
        "plt.ylabel('Normalised RMSE')\n",
        "plt.show()"
      ],
      "execution_count": 215,
      "outputs": [
        {
          "output_type": "stream",
          "name": "stdout",
          "text": [
            "The final shedule {20: 3, 10: 10}\n",
            "The final actual_dictionary: {20: [0.09908600000000001, 0.098606, 0.098544], 10: [0.018813, 0.018941999999999997, 0.019656, 0.019617, 0.019672, 0.019293, 0.019237999999999998, 0.019614, 0.019455, 0.019443000000000002]}\n",
            "baseline_p_20    sample_size  predicted_runtime_full_dataset  normalised_rmse\n",
            "0           20                         1.58683         0.364685\n",
            "The final shedule {40: 3, 30: 3, 20: 3, 10: 10}\n",
            "The final actual_dictionary: {40: [0.365433, 0.365583, 0.359935], 30: [0.12925899999999999, 0.130385, 0.13132], 20: [0.09908600000000001, 0.098606, 0.098544], 10: [0.018813, 0.018941999999999997, 0.019656, 0.019617, 0.019672, 0.019293, 0.019237999999999998, 0.019614, 0.019455, 0.019443000000000002]}\n",
            "baseline_p_40    sample_size  predicted_runtime_full_dataset  normalised_rmse\n",
            "0           20                        1.586830         0.364685\n",
            "1           30                        1.024515         0.913798\n",
            "2           40                        1.419358         0.502308\n",
            "The final shedule {60: 3, 50: 3, 40: 3, 30: 3, 20: 3, 10: 10}\n",
            "The final actual_dictionary: {60: [0.898965, 0.897351, 0.9006629999999999], 50: [0.612696, 0.612095, 0.609661], 40: [0.365433, 0.365583, 0.359935], 30: [0.12925899999999999, 0.130385, 0.13132], 20: [0.09908600000000001, 0.098606, 0.098544], 10: [0.018813, 0.018941999999999997, 0.019656, 0.019617, 0.019672, 0.019293, 0.019237999999999998, 0.019614, 0.019455, 0.019443000000000002]}\n",
            "baseline_p_60    sample_size  predicted_runtime_full_dataset  normalised_rmse\n",
            "0           20                        1.581485         0.368738\n",
            "1           30                        1.017287         0.922469\n",
            "2           40                        1.419358         0.502308\n",
            "3           50                        1.684680         0.294451\n",
            "4           60                        1.827373         0.205482\n",
            "The final shedule {80: 3, 70: 3, 60: 3, 50: 3, 40: 3, 30: 3, 20: 3, 10: 10}\n",
            "The final actual_dictionary: {80: [1.607224, 1.609309, 1.60731], 70: [1.228911, 1.230683, 1.232913], 60: [0.898965, 0.897351, 0.9006629999999999], 50: [0.612696, 0.612095, 0.609661], 40: [0.365433, 0.365583, 0.359935], 30: [0.12925899999999999, 0.130385, 0.13132], 20: [0.09908600000000001, 0.098606, 0.098544], 10: [0.018813, 0.018941999999999997, 0.019656, 0.019617, 0.019672, 0.019293, 0.019237999999999998, 0.019614, 0.019455, 0.019443000000000002]}\n",
            "baseline_p_80    sample_size  predicted_runtime_full_dataset  normalised_rmse\n",
            "0           20                        1.581485         0.368738\n",
            "1           30                        1.024515         0.913798\n",
            "2           40                        1.428537         0.494196\n",
            "3           50                        1.684680         0.294451\n",
            "4           60                        1.827373         0.205482\n",
            "5           70                        1.911992         0.160260\n",
            "6           80                        1.960753         0.136751\n"
          ]
        },
        {
          "output_type": "display_data",
          "data": {
            "image/png": "[encoded data removed]",
            "text/plain": [
              "<Figure size 432x288 with 1 Axes>"
            ]
          },
          "metadata": {
            "needs_background": "light"
          }
        }
      ]
    },
    {
      "cell_type": "markdown",
      "metadata": {
        "id": "7FzM3d35BgFh"
      },
      "source": [
        "##### NMF model"
      ]
    },
    {
      "cell_type": "code",
      "metadata": {
        "colab": {
          "base_uri": "https://localhost:8080/",
          "height": 819
        },
        "id": "MAdfbXozA2lF",
        "outputId": "a04e4555-f839-4a1f-acb4-dedc52411d5c"
      },
      "source": [
        "nmf_20 = adapt(300,20,0.01,'nmf')\n",
        "nmf_p_20 = predict_time('nmf', m, n, r, nmf_20, actual_rt, comp_nmf)\n",
        "print('nmf_p_20',nmf_p_20)\n",
        "\n",
        "nmf_40 = adapt(300,40,0.01,'nmf')\n",
        "nmf_p_40 = predict_time('nmf', m, n, r, nmf_40, actual_rt, comp_nmf)\n",
        "print('nmf_p_40',nmf_p_40)\n",
        "\n",
        "nmf_60 = adapt(300,60,0.01,'nmf')\n",
        "nmf_p_60 = predict_time('nmf', m, n, r, nmf_60, actual_rt, comp_nmf)\n",
        "print('nmf_p_60',nmf_p_60)\n",
        "\n",
        "nmf_80 = adapt(300,80,0.01,'nmf')\n",
        "nmf_p_80 = predict_time('nmf', m, n, r, nmf_80, actual_rt, comp_nmf)\n",
        "print('nmf_p_80',nmf_p_80)\n",
        "\n",
        "plt.title('T=300,accuracy=0.01,model=NMF')\n",
        "plt.plot(nmf_p_20['sample_size'],nmf_p_20['normalised_rmse'],color='red',label='Sample size = 20')\n",
        "plt.plot(nmf_p_40['sample_size'],nmf_p_40['normalised_rmse'],color='green',label='Sample size = 40')\n",
        "plt.plot(nmf_p_60['sample_size'],nmf_p_60['normalised_rmse'],color='blue',label='Sample size = 60')\n",
        "plt.plot(nmf_p_80['sample_size'],nmf_p_80['normalised_rmse'],color='orange',label='Sample size = 80')\n",
        "\n",
        "plt.legend()\n",
        "plt.xlabel('Sample Size')\n",
        "plt.ylabel('Normalised RMSE')\n",
        "plt.show()"
      ],
      "execution_count": 216,
      "outputs": [
        {
          "output_type": "stream",
          "name": "stdout",
          "text": [
            "The final shedule {20: 10, 10: 3}\n",
            "The final actual_dictionary: {20: [1.7026009999999998, 1.660134, 1.7023580000000003, 1.655218, 1.669371, 1.65777, 1.778943, 1.744434, 1.614781, 1.687775], 10: [0.459082, 0.463218, 0.456826]}\n",
            "nmf_p_20    sample_size  predicted_runtime_full_dataset  normalised_rmse\n",
            "0           20                       22.983751        12.428474\n",
            "The final shedule {40: 10, 30: 10, 20: 10, 10: 3}\n",
            "The final actual_dictionary: {40: [8.050094999999999, 7.546710000000001, 7.538053, 7.454207000000001, 7.700977000000001, 7.4049830000000005, 7.700622, 7.60233, 7.700157000000001, 7.767048], 30: [3.8059559999999997, 3.9692199999999995, 3.8635129999999998, 3.9523589999999995, 4.046638, 3.9368510000000003, 3.862229, 3.8620669999999997, 3.940381, 3.959307], 20: [1.7026009999999998, 1.660134, 1.7023580000000003, 1.655218, 1.669371, 1.65777, 1.778943, 1.744434, 1.614781, 1.687775], 10: [0.459082, 0.463218, 0.456826]}\n",
            "nmf_p_40    sample_size  predicted_runtime_full_dataset  normalised_rmse\n",
            "0           20                       22.953525        12.459512\n",
            "1           30                       29.278652         6.807919\n",
            "2           40                       34.748849         3.287068\n",
            "The final shedule {60: 3, 50: 3, 40: 10, 30: 10, 20: 10, 10: 3}\n",
            "The final actual_dictionary: {60: [17.055281, 17.063126999999998, 17.166774], 50: [11.869168, 11.726266, 11.907739], 40: [8.050094999999999, 7.546710000000001, 7.538053, 7.454207000000001, 7.700977000000001, 7.4049830000000005, 7.700622, 7.60233, 7.700157000000001, 7.767048], 30: [3.8059559999999997, 3.9692199999999995, 3.8635129999999998, 3.9523589999999995, 4.046638, 3.9368510000000003, 3.862229, 3.8620669999999997, 3.940381, 3.959307], 20: [1.7026009999999998, 1.660134, 1.7023580000000003, 1.655218, 1.669371, 1.65777, 1.778943, 1.744434, 1.614781, 1.687775], 10: [0.459082, 0.463218, 0.456826]}\n",
            "nmf_p_60    sample_size  predicted_runtime_full_dataset  normalised_rmse\n",
            "0           20                       22.954021        12.459003\n",
            "1           30                       29.358382         6.747497\n",
            "2           40                       35.103584         3.102518\n",
            "3           50                       35.708839         2.799944\n",
            "4           60                       36.730615         2.324365\n",
            "The final shedule {80: 3, 70: 4, 60: 2, 50: 2, 40: 3, 30: 3, 20: 3, 10: 2}\n",
            "The final actual_dictionary: {80: [32.056661, 31.83795, 31.718303999999996], 70: [23.407132999999998, 25.065826, 23.334456, 26.303234999999997], 60: [17.055281, 17.063126999999998], 50: [11.869168, 11.726266], 40: [8.050094999999999, 7.546710000000001, 7.538053], 30: [3.8059559999999997, 3.9692199999999995, 3.8635129999999998], 20: [1.7026009999999998, 1.660134, 1.7023580000000003], 10: [0.459082, 0.463218]}\n",
            "nmf_p_80    sample_size  predicted_runtime_full_dataset  normalised_rmse\n",
            "0           20                       22.847849        12.568331\n",
            "1           30                       28.218278         7.637117\n",
            "2           40                       33.134140         4.194482\n",
            "3           50                       35.211644         3.047359\n",
            "4           60                       36.469146         2.441853\n",
            "5           70                       38.907264         1.458736\n",
            "6           80                       38.818628         1.490065\n"
          ]
        },
        {
          "output_type": "display_data",
          "data": {
            "image/png": "[encoded data removed]",
            "text/plain": [
              "<Figure size 432x288 with 1 Axes>"
            ]
          },
          "metadata": {
            "needs_background": "light"
          }
        }
      ]
    },
    {
      "cell_type": "markdown",
      "metadata": {
        "id": "Co4_FXrzCY8c"
      },
      "source": [
        "##### coclustering"
      ]
    },
    {
      "cell_type": "code",
      "metadata": {
        "colab": {
          "base_uri": "https://localhost:8080/",
          "height": 819
        },
        "id": "4tCgSGYaCJyZ",
        "outputId": "d36c1b56-5585-4975-872c-d9c4cea23d24"
      },
      "source": [
        "co_20 = adapt(300,20,0.01,'coclustering')\n",
        "co_p_20 = predict_time('coclustering', m, n, r, co_20, actual_rt, comp_coclustering)\n",
        "print('co_p_20',co_p_20)\n",
        "\n",
        "co_40 = adapt(300,40,0.01,'coclustering')\n",
        "co_p_40 = predict_time('coclustering', m, n, r, co_40, actual_rt, comp_coclustering)\n",
        "print('co_p_40',co_p_40)\n",
        "\n",
        "co_60 = adapt(300,60,0.01,'coclustering')\n",
        "co_p_60 = predict_time('coclustering', m, n, r, co_60, actual_rt, comp_coclustering)\n",
        "print('co_p_60',co_p_60)\n",
        "\n",
        "co_80 = adapt(300,80,0.01,'coclustering')\n",
        "co_p_80 = predict_time('coclustering', m, n, r, co_80, actual_rt, comp_coclustering)\n",
        "print('co_p_80',co_p_80)\n",
        "\n",
        "plt.title('T=300,accuracy=0.01,model=Co-clustering')\n",
        "plt.plot(co_p_20['sample_size'],co_p_20['normalised_rmse'],color='red',label='Sample size = 20')\n",
        "plt.plot(co_p_40['sample_size'],co_p_40['normalised_rmse'],color='green',label='Sample size = 40')\n",
        "plt.plot(co_p_60['sample_size'],co_p_60['normalised_rmse'],color='blue',label='Sample size = 60')\n",
        "plt.plot(co_p_80['sample_size'],co_p_80['normalised_rmse'],color='orange',label='Sample size = 80')\n",
        "\n",
        "plt.legend()\n",
        "plt.xlabel('Sample Size')\n",
        "plt.ylabel('Normalised RMSE')\n",
        "plt.show()"
      ],
      "execution_count": 217,
      "outputs": [
        {
          "output_type": "stream",
          "name": "stdout",
          "text": [
            "The final shedule {20: 3, 10: 3}\n",
            "The final actual_dictionary: {20: [0.567479, 0.555107, 0.560311], 10: [0.18756, 0.190939, 0.187822]}\n",
            "co_p_20    sample_size  predicted_runtime_full_dataset  normalised_rmse\n",
            "0           20                        7.023874         6.695742\n",
            "The final shedule {40: 3, 30: 10, 20: 3, 10: 3}\n",
            "The final actual_dictionary: {40: [2.6041279999999998, 2.606566, 2.575149], 30: [1.189568, 1.242687, 1.2341010000000001, 1.244497, 1.237558, 1.259327, 1.219331, 1.246478, 1.238777, 1.23774], 20: [0.567479, 0.555107, 0.560311], 10: [0.18756, 0.190939, 0.187822]}\n",
            "co_p_40    sample_size  predicted_runtime_full_dataset  normalised_rmse\n",
            "0           20                        6.958113         6.776191\n",
            "1           30                        8.706034         4.801177\n",
            "2           40                       10.520484         3.110025\n",
            "The final shedule {60: 10, 50: 3, 40: 3, 30: 10, 20: 3, 10: 3}\n",
            "The final actual_dictionary: {60: [6.301348, 6.205063, 6.813811, 6.175774, 6.211194, 6.2030650000000005, 6.302985, 6.2164150000000005, 6.276917, 6.272622], 50: [4.272807, 4.272783, 4.22815], 40: [2.6041279999999998, 2.606566, 2.575149], 30: [1.189568, 1.242687, 1.2341010000000001, 1.244497, 1.237558, 1.259327, 1.219331, 1.246478, 1.238777, 1.23774], 20: [0.567479, 0.555107, 0.560311], 10: [0.18756, 0.190939, 0.187822]}\n",
            "co_p_60    sample_size  predicted_runtime_full_dataset  normalised_rmse\n",
            "0           20                        6.958113         6.776191\n",
            "1           30                        8.774871         4.730343\n",
            "2           40                       10.516763         3.113119\n",
            "3           50                       12.386230         1.752458\n",
            "4           60                       13.873398         0.947325\n",
            "The final shedule {80: 3, 70: 10, 60: 10, 50: 3, 40: 3, 30: 10, 20: 3, 10: 3}\n",
            "The final actual_dictionary: {80: [11.333327, 11.180328, 11.161383], 70: [9.671142999999999, 8.570394, 8.614689, 8.537879, 8.524465, 10.587086, 8.583103999999999, 8.468779, 8.426497, 8.54236], 60: [6.301348, 6.205063, 6.813811, 6.175774, 6.211194, 6.2030650000000005, 6.302985, 6.2164150000000005, 6.276917, 6.272622], 50: [4.272807, 4.272783, 4.22815], 40: [2.6041279999999998, 2.606566, 2.575149], 30: [1.189568, 1.242687, 1.2341010000000001, 1.244497, 1.237558, 1.259327, 1.219331, 1.246478, 1.238777, 1.23774], 20: [0.567479, 0.555107, 0.560311], 10: [0.18756, 0.190939, 0.187822]}\n",
            "co_p_80    sample_size  predicted_runtime_full_dataset  normalised_rmse\n",
            "0           20                        6.958113         6.776191\n",
            "1           30                        8.727516         4.779016\n",
            "2           40                       10.520484         3.110025\n",
            "3           50                       12.386256         1.752442\n",
            "4           60                       13.879138         0.944693\n",
            "5           70                       14.187770         0.808586\n",
            "6           80                       14.068585         0.859893\n"
          ]
        },
        {
          "output_type": "display_data",
          "data": {
            "image/png": "[encoded data removed]",
            "text/plain": [
              "<Figure size 432x288 with 1 Axes>"
            ]
          },
          "metadata": {
            "needs_background": "light"
          }
        }
      ]
    }
  ]
}